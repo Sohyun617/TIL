{
  "cells": [
    {
      "cell_type": "code",
      "source": [
        "import tensorflow as tf\n",
        "import numpy as np\n",
        "import pandas as pd"
      ],
      "outputs": [],
      "execution_count": 1,
      "metadata": {}
    },
    {
      "cell_type": "code",
      "source": [
        "a= tf.add(3,5)\n",
        "print(a)"
      ],
      "outputs": [
        {
          "output_type": "stream",
          "name": "stdout",
          "text": [
            "Tensor(\"Add:0\", shape=(), dtype=int32)\n"
          ]
        }
      ],
      "execution_count": 2,
      "metadata": {}
    },
    {
      "cell_type": "code",
      "source": [
        "a= tf.add(3,5)\n",
        "sess =tf.Session()\n",
        "print(sess.run(a))"
      ],
      "outputs": [
        {
          "output_type": "stream",
          "name": "stdout",
          "text": [
            "8\n"
          ]
        }
      ],
      "execution_count": 3,
      "metadata": {
        "scrolled": true
      }
    },
    {
      "cell_type": "code",
      "source": [
        "sess.close()"
      ],
      "outputs": [],
      "execution_count": 4,
      "metadata": {}
    },
    {
      "cell_type": "code",
      "source": [
        "a = tf.add(3,5)\n",
        "with tf.Session() as sess:\n",
        "    print(sess.run(a)) # close 할 필요없음"
      ],
      "outputs": [
        {
          "output_type": "stream",
          "name": "stdout",
          "text": [
            "8\n"
          ]
        }
      ],
      "execution_count": 5,
      "metadata": {}
    },
    {
      "cell_type": "code",
      "source": [
        "x=2\n",
        "y=3\n",
        "op1 = tf.add(x,y)\n",
        "op2 = tf.multiply(x,y)\n",
        "op3 = tf.pow(op2,op1)"
      ],
      "outputs": [],
      "execution_count": 6,
      "metadata": {}
    },
    {
      "cell_type": "code",
      "source": [
        "with tf.Session() as sess:\n",
        "    op3 = sess.run(op3)\n",
        "    print(op3)"
      ],
      "outputs": [
        {
          "output_type": "stream",
          "name": "stdout",
          "text": [
            "7776\n"
          ]
        }
      ],
      "execution_count": 7,
      "metadata": {}
    },
    {
      "cell_type": "markdown",
      "source": [
        "prepare the data"
      ],
      "metadata": {}
    },
    {
      "cell_type": "code",
      "source": [
        "import matplotlib.pyplot as plt\n",
        "from sklearn import datasets"
      ],
      "outputs": [],
      "execution_count": 8,
      "metadata": {}
    },
    {
      "cell_type": "code",
      "source": [
        "x_data =datasets.load_boston().data[:,12] \n",
        "y_data =datasets.load_boston().target\n",
        "df = pd.DataFrame([x_data,y_data]).transpose()\n",
        "df.head()"
      ],
      "outputs": [
        {
          "output_type": "execute_result",
          "execution_count": 9,
          "data": {
            "text/html": [
              "<div>\n",
              "<style scoped>\n",
              "    .dataframe tbody tr th:only-of-type {\n",
              "        vertical-align: middle;\n",
              "    }\n",
              "\n",
              "    .dataframe tbody tr th {\n",
              "        vertical-align: top;\n",
              "    }\n",
              "\n",
              "    .dataframe thead th {\n",
              "        text-align: right;\n",
              "    }\n",
              "</style>\n",
              "<table border=\"1\" class=\"dataframe\">\n",
              "  <thead>\n",
              "    <tr style=\"text-align: right;\">\n",
              "      <th></th>\n",
              "      <th>0</th>\n",
              "      <th>1</th>\n",
              "    </tr>\n",
              "  </thead>\n",
              "  <tbody>\n",
              "    <tr>\n",
              "      <th>0</th>\n",
              "      <td>4.98</td>\n",
              "      <td>24.0</td>\n",
              "    </tr>\n",
              "    <tr>\n",
              "      <th>1</th>\n",
              "      <td>9.14</td>\n",
              "      <td>21.6</td>\n",
              "    </tr>\n",
              "    <tr>\n",
              "      <th>2</th>\n",
              "      <td>4.03</td>\n",
              "      <td>34.7</td>\n",
              "    </tr>\n",
              "    <tr>\n",
              "      <th>3</th>\n",
              "      <td>2.94</td>\n",
              "      <td>33.4</td>\n",
              "    </tr>\n",
              "    <tr>\n",
              "      <th>4</th>\n",
              "      <td>5.33</td>\n",
              "      <td>36.2</td>\n",
              "    </tr>\n",
              "  </tbody>\n",
              "</table>\n",
              "</div>"
            ],
            "text/plain": [
              "      0     1\n",
              "0  4.98  24.0\n",
              "1  9.14  21.6\n",
              "2  4.03  34.7\n",
              "3  2.94  33.4\n",
              "4  5.33  36.2"
            ]
          },
          "metadata": {}
        }
      ],
      "execution_count": 9,
      "metadata": {}
    },
    {
      "cell_type": "markdown",
      "source": [
        "build the model - Linear Regression\n",
        "\n",
        "tf.variable(초기화 방법)\n",
        "\n",
        "-parameter 세타\n",
        "-gradient descent 의 대상\n",
        "-learning 의 대상"
      ],
      "metadata": {}
    },
    {
      "cell_type": "code",
      "source": [
        "w = tf.Variable(tf.random_normal([1])) #랜덤한 표준 정규분포의 차원수 1\n",
        "b = tf.Variable(tf.random_normal([1]))\n",
        "\n",
        "y_predicted = w * x_data + b "
      ],
      "outputs": [],
      "execution_count": 20,
      "metadata": {}
    },
    {
      "cell_type": "markdown",
      "source": [
        "set the criterion: cost function & gradient descent method"
      ],
      "metadata": {}
    },
    {
      "cell_type": "code",
      "source": [
        "loss = tf.reduce_mean(tf.square(y_predicted - y_data)) #reduce_mean 평균값을 loss에 저장\n",
        "optimizer = tf.train.GradientDescentOptimizer(0.001) \n",
        "train = optimizer.minimize(loss)"
      ],
      "outputs": [],
      "execution_count": 21,
      "metadata": {}
    },
    {
      "cell_type": "markdown",
      "source": [
        " train the model"
      ],
      "metadata": {}
    },
    {
      "cell_type": "code",
      "source": [
        "with tf.Session() as sess:\n",
        "    sess.run(tf.global_variables_initializer()) #variable 초기화\n",
        "    \n",
        "    for step in range(10000):  \n",
        "        sess.run(train) #실제로 gradient descent 가 실행되는 코드\n",
        "        if step % 1000 ==0:\n",
        "                print('Step {}: w {} b{}'.format(step, sess.run(w), sess.run(b)))\n",
        "                print('loss {}'.format(sess.run(loss)))\n",
        "                print()\n",
        "            \n",
        "    w_out, b_out = sess.run([w,b])"
      ],
      "outputs": [
        {
          "output_type": "stream",
          "name": "stdout",
          "text": [
            "Step 0: w [0.20274973] b[-0.71006924]\n",
            "loss 533.6760864257812\n",
            "\n",
            "Step 1000: w [0.35680872] b[12.786377]\n",
            "loss 152.77444458007812\n",
            "\n",
            "Step 2000: w [-0.14203936] b[21.095356]\n",
            "loss 82.17382049560547\n",
            "\n",
            "Step 3000: w [-0.4504686] b[26.232656]\n",
            "loss 55.184967041015625\n",
            "\n",
            "Step 4000: w [-0.64116657] b[29.408985]\n",
            "loss 44.867713928222656\n",
            "\n",
            "Step 5000: w [-0.7590718] b[31.372854]\n",
            "loss 40.92371368408203\n",
            "\n",
            "Step 6000: w [-0.8319713] b[32.587093]\n",
            "loss 39.415992736816406\n",
            "\n",
            "Step 7000: w [-0.8770433] b[33.337826]\n",
            "loss 38.83964157104492\n",
            "\n",
            "Step 8000: w [-0.90491074] b[33.802]\n",
            "loss 38.619319915771484\n",
            "\n",
            "Step 9000: w [-0.92214096] b[34.088993]\n",
            "loss 38.53509521484375\n",
            "\n"
          ]
        }
      ],
      "execution_count": 23,
      "metadata": {}
    },
    {
      "cell_type": "code",
      "source": [
        "plt.figure(figsize = (10,10))\n",
        "plt.plot(x_data,y_data, 'bo', label='Real data')\n",
        "plt.plot(x_data, x_data * w_out + b_out, 'ro', label='Prediction') #x_data * w_out + b_out = prediction 식\n",
        "plt.legend()\n",
        "plt.show()"
      ],
      "outputs": [
        {
          "output_type": "display_data",
          "data": {
            "image/png": "[encoded data removed]",
            "text/plain": [
              "<Figure size 720x720 with 1 Axes>"
            ]
          },
          "metadata": {
            "needs_background": "light"
          }
        }
      ],
      "execution_count": 24,
      "metadata": {}
    },
    {
      "cell_type": "markdown",
      "source": [
        "build the model - Regression with Neural Network"
      ],
      "metadata": {}
    },
    {
      "cell_type": "code",
      "source": [
        "_x_data = tf.reshape(x_data, [len(x_data),1])\n",
        "\n",
        "w= tf.Variable(tf.random_normal([1,5], dtype=tf.float64))  \n",
        "w_out = tf.Variable(tf.random_normal([5,1], dtype=tf.float64))\n",
        "\n",
        "hidden = tf.nn.sigmoid(tf.matmul(_x_data,w)) #hidden 은 은닉층\n",
        "output = tf.matmul(hidden, w_out) #regression\n"
      ],
      "outputs": [],
      "execution_count": 43,
      "metadata": {}
    },
    {
      "cell_type": "markdown",
      "source": [
        "set the criterion: cost function & gradient descent method"
      ],
      "metadata": {}
    },
    {
      "cell_type": "code",
      "source": [
        "loss = tf.reduce_mean(tf.square(output-y_data))\n",
        "optimizer = tf.train.GradientDescentOptimizer(0.001)\n",
        "train = optimizer.minimize(loss)"
      ],
      "outputs": [],
      "execution_count": 44,
      "metadata": {}
    },
    {
      "cell_type": "markdown",
      "source": [
        "train the model"
      ],
      "metadata": {}
    },
    {
      "cell_type": "code",
      "source": [
        "with tf.Session() as sess:\n",
        "    sess.run(tf.global_variables_initializer()) #variable 초기화\n",
        "    \n",
        "    for step in range(50000):  \n",
        "        sess.run(train) #실제로 gradient descent 가 실행되는 코드\n",
        "        if step % 5000 ==0:\n",
        "                print('Step {} || Loss : {}'.format(step, sess.run(loss)))\n",
        "              \n",
        "            \n",
        "    output = sess.run(output)"
      ],
      "outputs": [
        {
          "output_type": "stream",
          "name": "stdout",
          "text": [
            "Step 0 || Loss : 569.3292732756134\n",
            "Step 5000 || Loss : 84.45633657778397\n",
            "Step 10000 || Loss : 84.44177555867353\n",
            "Step 15000 || Loss : 84.43571406974799\n",
            "Step 20000 || Loss : 84.4323356410024\n",
            "Step 25000 || Loss : 84.4301643209915\n",
            "Step 30000 || Loss : 84.42864418877915\n",
            "Step 35000 || Loss : 84.42751714829993\n",
            "Step 40000 || Loss : 84.42664639526231\n",
            "Step 45000 || Loss : 84.42595240350825\n"
          ]
        }
      ],
      "execution_count": 45,
      "metadata": {}
    },
    {
      "cell_type": "markdown",
      "source": [
        "visualize"
      ],
      "metadata": {}
    },
    {
      "cell_type": "code",
      "source": [
        "plt.figure(figsize = (10,10))\n",
        "plt.plot(x_data,y_data, 'bo', label='Real data')\n",
        "plt.plot(x_data,output, 'ro', label='Prediction') #output = prediction 식\n",
        "plt.legend()\n",
        "plt.show()"
      ],
      "outputs": [
        {
          "output_type": "display_data",
          "data": {
            "image/png": "[encoded data removed]",
            "text/plain": [
              "<Figure size 720x720 with 1 Axes>"
            ]
          },
          "metadata": {
            "needs_background": "light"
          }
        }
      ],
      "execution_count": 46,
      "metadata": {
        "scrolled": true
      }
    },
    {
      "cell_type": "markdown",
      "source": [
        "build the model (2 hidden alyers)"
      ],
      "metadata": {}
    },
    {
      "cell_type": "code",
      "source": [
        "_x_data = tf.reshape(x_data, [len(x_data),1])\n",
        "_y_data = tf.reshape(y_data, [len(y_data),1])\n",
        "\n",
        "w1 = tf.Variable(tf.random_normal([1,5], dtype=tf.float64)) # 5= hiddenlayer1의 perceptron 수 \n",
        "w2 = tf.Variable(tf.random_normal([5,10], dtype=tf.float64))\n",
        "w_out = tf.Variable(tf.random_normal([10,1], dtype=tf.float64))\n",
        "\n",
        "\n",
        "hidden1 = tf.nn.elu(tf.matmul(_x_data,w1))\n",
        "hidden2 = tf.nn.elu(tf.matmul(hidden1,w2))\n",
        "output = tf.matmul(hidden2, w_out)"
      ],
      "outputs": [],
      "execution_count": 47,
      "metadata": {}
    },
    {
      "cell_type": "markdown",
      "source": [
        "set the criterion"
      ],
      "metadata": {}
    },
    {
      "cell_type": "code",
      "source": [
        "loss = tf.losses.mean_squared_error(output, _y_data) # output-\n",
        "optimizer = tf.train.AdamOptimizer(0.001)\n",
        "train= optimizer.minimize(loss)"
      ],
      "outputs": [],
      "execution_count": 52,
      "metadata": {}
    },
    {
      "cell_type": "code",
      "source": [
        "with tf.Session() as sess:\n",
        "    sess.run(tf.global_variables_initializer()) #variable 초기화\n",
        "    \n",
        "    for step in range(50000):  \n",
        "        sess.run(train) #실제로 gradient descent 가 실행되는 코드\n",
        "        if step % 5000 ==0:\n",
        "                print('Step {} || Loss : {}'.format(step, sess.run(loss)))\n",
        "              \n",
        "            \n",
        "    output = sess.run(output)"
      ],
      "outputs": [
        {
          "output_type": "stream",
          "name": "stdout",
          "text": [
            "Step 0 || Loss : 2566.072021484375\n",
            "Step 5000 || Loss : 41.41788101196289\n",
            "Step 10000 || Loss : 36.0476188659668\n",
            "Step 15000 || Loss : 27.228351593017578\n",
            "Step 20000 || Loss : 27.02735710144043\n",
            "Step 25000 || Loss : 27.014036178588867\n",
            "Step 30000 || Loss : 27.010295867919922\n",
            "Step 35000 || Loss : 27.008014678955078\n",
            "Step 40000 || Loss : 27.00612449645996\n",
            "Step 45000 || Loss : 27.00426483154297\n"
          ]
        }
      ],
      "execution_count": 56,
      "metadata": {}
    },
    {
      "cell_type": "markdown",
      "source": [
        "visualize"
      ],
      "metadata": {}
    },
    {
      "cell_type": "code",
      "source": [
        "plt.figure(figsize = (10,10))\n",
        "plt.plot(x_data,y_data, 'bo', label='Real data')\n",
        "plt.plot(x_data,output, 'ro', label='Prediction') #output = prediction 식\n",
        "plt.legend()\n",
        "plt.show()"
      ],
      "outputs": [
        {
          "output_type": "display_data",
          "data": {
            "image/png": "[encoded data removed]",
            "text/plain": [
              "<Figure size 720x720 with 1 Axes>"
            ]
          },
          "metadata": {
            "needs_background": "light"
          }
        }
      ],
      "execution_count": 57,
      "metadata": {}
    }
  ],
  "metadata": {
    "kernelspec": {
      "name": "python3",
      "language": "python",
      "display_name": "Python 3"
    },
    "language_info": {
      "name": "python",
      "version": "3.7.3",
      "mimetype": "text/x-python",
      "codemirror_mode": {
        "name": "ipython",
        "version": 3
      },
      "pygments_lexer": "ipython3",
      "nbconvert_exporter": "python",
      "file_extension": ".py"
    },
    "kernel_info": {
      "name": "python3"
    },
    "nteract": {
      "version": "0.15.0"
    }
  },
  "nbformat": 4,
  "nbformat_minor": 2
}
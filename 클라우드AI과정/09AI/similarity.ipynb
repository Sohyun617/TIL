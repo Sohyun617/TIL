{
 "cells": [
  {
   "cell_type": "code",
   "execution_count": 1,
   "metadata": {},
   "outputs": [],
   "source": [
    "import matplotlib.pyplot as plt\n",
    "%matplotlib inline\n",
    "from math  import sqrt\n",
    "from matplotlib import font_manager, rc\n",
    "\n",
    "font_name = font_manager.FontProperties(fname='/System/Library/Fonts/Supplemental/AppleGothic.ttf').get_name()\n",
    "rc('font', family= font_name)\n"
   ]
  },
  {
   "cell_type": "code",
   "execution_count": 2,
   "metadata": {},
   "outputs": [],
   "source": [
    "ratings= {\n",
    "    'user1':{'captin marvel':5, 'last mission':4, 'money':2},\n",
    "    'user2':{'captin marvel':4, 'last mission':2, 'money':1},\n",
    "    'me':{'last mission':4, 'money':3},\n",
    "    'user3':{'captin marvel':3.5, 'last mission':4, 'money':4},\n",
    "\n",
    "\n",
    "    \n",
    "}"
   ]
  },
  {
   "cell_type": "code",
   "execution_count": 3,
   "metadata": {},
   "outputs": [
    {
     "data": {
      "text/plain": [
       "{'last mission': 4, 'money': 3}"
      ]
     },
     "execution_count": 3,
     "metadata": {},
     "output_type": "execute_result"
    }
   ],
   "source": [
    "ratings['me']"
   ]
  },
  {
   "cell_type": "code",
   "execution_count": 4,
   "metadata": {},
   "outputs": [
    {
     "data": {
      "text/plain": [
       "3"
      ]
     },
     "execution_count": 4,
     "metadata": {},
     "output_type": "execute_result"
    }
   ],
   "source": [
    "ratings['me']['money']"
   ]
  },
  {
   "cell_type": "code",
   "execution_count": 5,
   "metadata": {},
   "outputs": [],
   "source": [
    "def similarity(i,j):\n",
    "    return sqrt(pow(i,2)+pow(j,2))"
   ]
  },
  {
   "cell_type": "code",
   "execution_count": 6,
   "metadata": {},
   "outputs": [
    {
     "data": {
      "text/plain": [
       "1.0"
      ]
     },
     "execution_count": 6,
     "metadata": {},
     "output_type": "execute_result"
    }
   ],
   "source": [
    "var1 = ratings['me']['last mission'] -ratings['user3']['last mission']\n",
    "var2 = ratings['me']['money'] -ratings['user3']['money']\n",
    "\n",
    "\n",
    "similarity(var1,var2)"
   ]
  },
  {
   "cell_type": "code",
   "execution_count": 7,
   "metadata": {},
   "outputs": [
    {
     "name": "stdout",
     "output_type": "stream",
     "text": [
      "user1 : 1.0\n",
      "user2 : 2.8284271247461903\n",
      "user3 : 1.0\n"
     ]
    }
   ],
   "source": [
    "for i in ratings:\n",
    "    if i != 'me': #자기자신 제외\n",
    "        num1 = ratings['me']['last mission'] -ratings[i]['last mission']\n",
    "        num2 = ratings['me']['money'] -ratings[i]['money']\n",
    "        print(i, \":\",similarity(num1,num2)) #거리가 멀수록 큰값"
   ]
  },
  {
   "cell_type": "code",
   "execution_count": 8,
   "metadata": {},
   "outputs": [
    {
     "name": "stdout",
     "output_type": "stream",
     "text": [
      "user1 : 0.5\n",
      "user2 : 0.2612038749637414\n",
      "user3 : 0.5\n"
     ]
    }
   ],
   "source": [
    "#정규화 (0-1) 0: 거리가 먼 데이터(관련도 낮음) , 1: 거리가 가까운 데이터 (관련도 높음)\n",
    "for i in ratings:\n",
    "    if i != 'me': #자기자신 제외\n",
    "        num1 = ratings['me']['last mission'] -ratings[i]['last mission']\n",
    "        num2 = ratings['me']['money'] -ratings[i]['money']\n",
    "        print(i, \":\",1/(1+ similarity(num1,num2))) #거리가 멀수록 큰값"
   ]
  },
  {
   "cell_type": "code",
   "execution_count": 9,
   "metadata": {},
   "outputs": [],
   "source": [
    "# 다차원의 유사도 구하기\n",
    "def similarity_distance(data, name1, name2):\n",
    "    sum = 0\n",
    "    for i in data[name1]:\n",
    "        if i in data[name2]: #같은 영화를 봤다면\n",
    "            # 각 축을 기준으로 차이를 구한다음 제곱을 하고, 총합의 제곱근이 거리 점수\n",
    "            sum += pow(data[name1][i] - data[name2][i], 2)\n",
    "    # 유사할수록 더 높은 값을 가지는 계산식 사용, 결과 값이 0과 1사이의 값을 반환\n",
    "    #반환값이 1에 가까울수록 유사도가 높다\n",
    "    return 1/ (1+ sqrt(sum))"
   ]
  },
  {
   "cell_type": "code",
   "execution_count": 10,
   "metadata": {},
   "outputs": [
    {
     "name": "stdout",
     "output_type": "stream",
     "text": [
      "0.28989794855663564\n",
      "0.2857142857142857\n"
     ]
    }
   ],
   "source": [
    "print(similarity_distance(ratings, 'user1', 'user2'))\n",
    "print(similarity_distance(ratings, 'user1', 'user3'))"
   ]
  },
  {
   "cell_type": "code",
   "execution_count": 15,
   "metadata": {},
   "outputs": [],
   "source": [
    "# 전체 데이터에서 유사도가 가장 가까운 사람 구하기\n",
    "def nearest_user(data, name, index= 3):\n",
    "    nearest_user_list=[]\n",
    "    \n",
    "    for u in data:\n",
    "        if name != u: # 자기자신은 제외\n",
    "                nearest_user_list.append((similarity_distance(data, name, u), u))\n",
    "    nearest_user_list.sort() # 오름차순\n",
    "    nearest_user_list.reverse() # 내림차순\n",
    "\n",
    "    return  nearest_user_list[:index]\n",
    "\n"
   ]
  },
  {
   "cell_type": "code",
   "execution_count": 16,
   "metadata": {},
   "outputs": [
    {
     "data": {
      "text/plain": [
       "[(0.28989794855663564, 'user1'),\n",
       " (0.2612038749637414, 'me'),\n",
       " (0.21551468935838852, 'user3')]"
      ]
     },
     "execution_count": 16,
     "metadata": {},
     "output_type": "execute_result"
    }
   ],
   "source": [
    "nearest_user(ratings, 'user2')"
   ]
  },
  {
   "cell_type": "code",
   "execution_count": 17,
   "metadata": {},
   "outputs": [],
   "source": [
    "#평점과 이름 분리\n",
    "def nearest_user(data, name, index= 3):\n",
    "    score=[]\n",
    "    names=[]\n",
    "\n",
    "    for u in data:\n",
    "        if name != u: # 자기자신은 제외\n",
    "                score.append(similarity_distance(data, name, u))\n",
    "                names.append(u)\n",
    "\n",
    "\n",
    "    score.sort() # 오름차순\n",
    "    names.sort() # 오름차순\n",
    "\n",
    "\n",
    "    score.reverse() # 내림차순\n",
    "    names.reverse() # 내림차순\n",
    "\n",
    "\n",
    "\n",
    "    return  score, names"
   ]
  },
  {
   "cell_type": "code",
   "execution_count": 18,
   "metadata": {},
   "outputs": [
    {
     "name": "stdout",
     "output_type": "stream",
     "text": [
      "[0.28989794855663564, 0.2612038749637414, 0.21551468935838852]\n",
      "['user3', 'user1', 'me']\n"
     ]
    }
   ],
   "source": [
    "score, names= nearest_user(ratings, 'user2')\n",
    "print(score)\n",
    "print(names)"
   ]
  },
  {
   "cell_type": "code",
   "execution_count": 19,
   "metadata": {},
   "outputs": [],
   "source": [
    "#시각화\n",
    "def draw_chart(data, labels):\n",
    "    positions= range(len(data))\n",
    "    plt.barh(positions, data, height= 0.5, color='b')\n",
    "    plt.yticks(positions, labels)\n",
    "    plt.xlabel('similarity')\n",
    "    plt.ylabel('name')\n",
    "    plt.show()"
   ]
  },
  {
   "cell_type": "code",
   "execution_count": 22,
   "metadata": {},
   "outputs": [
    {
     "data": {
      "image/png": "[encoded data removed]",
      "text/plain": [
       "<Figure size 432x288 with 1 Axes>"
      ]
     },
     "metadata": {
      "needs_background": "light"
     },
     "output_type": "display_data"
    }
   ],
   "source": [
    "draw_chart(score,names)"
   ]
  },
  {
   "cell_type": "code",
   "execution_count": null,
   "metadata": {},
   "outputs": [],
   "source": []
  },
  {
   "cell_type": "code",
   "execution_count": null,
   "metadata": {},
   "outputs": [],
   "source": []
  },
  {
   "cell_type": "code",
   "execution_count": null,
   "metadata": {},
   "outputs": [],
   "source": []
  },
  {
   "cell_type": "code",
   "execution_count": null,
   "metadata": {},
   "outputs": [],
   "source": []
  },
  {
   "cell_type": "code",
   "execution_count": null,
   "metadata": {},
   "outputs": [],
   "source": []
  }
 ],
 "metadata": {
  "kernelspec": {
   "display_name": "Python 3",
   "language": "python",
   "name": "python3"
  },
  "language_info": {
   "codemirror_mode": {
    "name": "ipython",
    "version": 3
   },
   "file_extension": ".py",
   "mimetype": "text/x-python",
   "name": "python",
   "nbconvert_exporter": "python",
   "pygments_lexer": "ipython3",
   "version": "3.7.4"
  }
 },
 "nbformat": 4,
 "nbformat_minor": 4
}

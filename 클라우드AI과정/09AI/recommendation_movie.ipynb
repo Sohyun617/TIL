{
 "cells": [
  {
   "cell_type": "code",
   "execution_count": 6,
   "metadata": {},
   "outputs": [],
   "source": [
    "import matplotlib.pyplot as plt\n",
    "%matplotlib inline\n",
    "from math  import sqrt\n",
    "from matplotlib import font_manager, rc\n",
    "\n",
    "font_name = font_manager.FontProperties(fname='/System/Library/Fonts/Supplemental/AppleGothic.ttf').get_name()\n",
    "rc('font', family= font_name)\n",
    "\n"
   ]
  },
  {
   "cell_type": "code",
   "execution_count": 7,
   "metadata": {
    "scrolled": true
   },
   "outputs": [
    {
     "data": {
      "image/png": "[encoded data removed]",
      "text/plain": [
       "<Figure size 576x360 with 1 Axes>"
      ]
     },
     "metadata": {
      "needs_background": "light"
     },
     "output_type": "display_data"
    }
   ],
   "source": [
    "plt.figure(figsize=(8,5))\n",
    "plt.plot([1,2,3],[1,2,3],'g^')\n",
    "plt.text(1,1,'캡틴 마블')\n",
    "plt.text(2,2,'라스트 미션')\n",
    "plt.text(3,3,'돈')\n",
    "plt.axis([0,6,0,6])\n",
    "plt.show()"
   ]
  },
  {
   "cell_type": "code",
   "execution_count": 8,
   "metadata": {},
   "outputs": [],
   "source": [
    "ratings = {\n",
    "    'user1': {\n",
    "        '돈': 2.5,\n",
    "        '캡틴마블': 3.5,\n",
    "        '보헤미안 랩소디': 3.0,\n",
    "        '극한직업': 3.5,\n",
    "        '이스케이프 룸': 2.5,\n",
    "        '증인': 3.0,\n",
    "    },\n",
    "    'user2': {\n",
    "        '돈': 1.0,\n",
    "        '캡틴마블': 4.5,\n",
    "        '보헤미안 랩소디': 0.5,\n",
    "        '극한직업': 1.5,\n",
    "        '이스케이프 룸': 4.5,\n",
    "        '증인': 5.0,\n",
    "    },\n",
    "    'user3': {\n",
    "        '돈': 3.0,\n",
    "        '캡틴마블': 3.5,\n",
    "        '보헤미안 랩소디': 1.5,\n",
    "        '극한직업': 5.0,\n",
    "        '증인': 3.0,\n",
    "        '이스케이프 룸': 3.5,\n",
    "    },\n",
    "    'user4': {\n",
    "        '돈': 2.5,\n",
    "        '캡틴마블': 3.0,\n",
    "        '극한직업': 3.5,\n",
    "        '증인': 4.0,\n",
    "    },\n",
    "    'user5': {\n",
    "        '캡틴마블': 3.5,\n",
    "        '보헤미안 랩소디': 3.0,\n",
    "        '증인': 4.5,\n",
    "        '극한직업': 4.0,\n",
    "        '이스케이프 룸': 2.5,\n",
    "    },\n",
    "    'user6': {\n",
    "        '돈': 3.0,\n",
    "        '캡틴마블': 4.0,\n",
    "        '보헤미안 랩소디': 2.0,\n",
    "        '극한직업': 3.0,\n",
    "        '증인': 3.5,\n",
    "        '이스케이프 룸': 2.0,\n",
    "    },\n",
    "    'user7': {\n",
    "        '돈': 3.0,\n",
    "        '캡틴마블': 4.0,\n",
    "        '증인': 3.0,\n",
    "        '극한직업': 5.0,\n",
    "        '이스케이프 룸': 3.5,\n",
    "    },\n",
    "    'user8': {\n",
    "        '캡틴마블': 4.5, \n",
    "        '이스케이프 룸': 1.0,\n",
    "        '극한직업': 4.0,\n",
    "    },\n",
    "    'user9': {\n",
    "        '돈': 3.7,\n",
    "        '캡틴마블': 4.0, \n",
    "        '이스케이프 룸': 3.0,\n",
    "        '극한직업': 4.9,\n",
    "        '보헤미안 랩소디': 4.1,\n",
    "    },\n",
    "    'user10': {\n",
    "        '돈': 3.7,\n",
    "        '캡틴마블': 4.0\n",
    "        \n",
    "    }\n",
    "}"
   ]
  },
  {
   "cell_type": "code",
   "execution_count": 9,
   "metadata": {},
   "outputs": [
    {
     "data": {
      "text/plain": [
       "{'user1': {'돈': 2.5,\n",
       "  '캡틴마블': 3.5,\n",
       "  '보헤미안 랩소디': 3.0,\n",
       "  '극한직업': 3.5,\n",
       "  '이스케이프 룸': 2.5,\n",
       "  '증인': 3.0},\n",
       " 'user2': {'돈': 1.0,\n",
       "  '캡틴마블': 4.5,\n",
       "  '보헤미안 랩소디': 0.5,\n",
       "  '극한직업': 1.5,\n",
       "  '이스케이프 룸': 4.5,\n",
       "  '증인': 5.0},\n",
       " 'user3': {'돈': 3.0,\n",
       "  '캡틴마블': 3.5,\n",
       "  '보헤미안 랩소디': 1.5,\n",
       "  '극한직업': 5.0,\n",
       "  '증인': 3.0,\n",
       "  '이스케이프 룸': 3.5},\n",
       " 'user4': {'돈': 2.5, '캡틴마블': 3.0, '극한직업': 3.5, '증인': 4.0},\n",
       " 'user5': {'캡틴마블': 3.5,\n",
       "  '보헤미안 랩소디': 3.0,\n",
       "  '증인': 4.5,\n",
       "  '극한직업': 4.0,\n",
       "  '이스케이프 룸': 2.5},\n",
       " 'user6': {'돈': 3.0,\n",
       "  '캡틴마블': 4.0,\n",
       "  '보헤미안 랩소디': 2.0,\n",
       "  '극한직업': 3.0,\n",
       "  '증인': 3.5,\n",
       "  '이스케이프 룸': 2.0},\n",
       " 'user7': {'돈': 3.0, '캡틴마블': 4.0, '증인': 3.0, '극한직업': 5.0, '이스케이프 룸': 3.5},\n",
       " 'user8': {'캡틴마블': 4.5, '이스케이프 룸': 1.0, '극한직업': 4.0},\n",
       " 'user9': {'돈': 3.7,\n",
       "  '캡틴마블': 4.0,\n",
       "  '이스케이프 룸': 3.0,\n",
       "  '극한직업': 4.9,\n",
       "  '보헤미안 랩소디': 4.1},\n",
       " 'user10': {'돈': 3.7, '캡틴마블': 4.0}}"
      ]
     },
     "execution_count": 9,
     "metadata": {},
     "output_type": "execute_result"
    }
   ],
   "source": [
    "ratings"
   ]
  },
  {
   "cell_type": "code",
   "execution_count": 10,
   "metadata": {},
   "outputs": [],
   "source": [
    "def draw_chart(data, name1, name2):\n",
    "    plt.figure(figsize=(8,5))\n",
    "    x_ratings=[]\n",
    "    y_ratings=[]\n",
    "    for i in ratings[name1]: # i = 키값\n",
    "        if i in data[name2]: # 같은 영화를 평가했을 때만\n",
    "            x_ratings.append(ratings[name1][i])\n",
    "            y_ratings.append(ratings[name2][i])\n",
    "            plt.text(ratings[name1][i],ratings[name2][i],i)\n",
    "    plt.plot(x_ratings, y_ratings, 'g^')\n",
    "    plt.axis([0,6,0,6])\n",
    "    plt.xlabel(name1)\n",
    "    plt.ylabel(name2)\n",
    "    plt.show()"
   ]
  },
  {
   "cell_type": "code",
   "execution_count": 11,
   "metadata": {},
   "outputs": [
    {
     "data": {
      "image/png": "[encoded data removed]",
      "text/plain": [
       "<Figure size 576x360 with 1 Axes>"
      ]
     },
     "metadata": {
      "needs_background": "light"
     },
     "output_type": "display_data"
    }
   ],
   "source": [
    "draw_chart(ratings,'user1','user3')"
   ]
  },
  {
   "cell_type": "code",
   "execution_count": 20,
   "metadata": {},
   "outputs": [],
   "source": [
    "def pearson_correlation_cofficient(data, name1, name2):\n",
    "    sumX = 0 # x(name)의 합\n",
    "    sumY = 0 # y(name)의 합\n",
    "    sumPowX=0 # x 제곱의 합\n",
    "    sumPowY=0# y 제곱의 합\n",
    "    sumXY = 0 # x*y 의합\n",
    "    count=  0#영화 개수\n",
    "    \n",
    "    for movie in data[name1]: #movie= key\n",
    "        if movie in data[name2]: # 같은영화를 평가했을때만\n",
    "            sumX += data[name1][movie] # x(name)의 합\n",
    "            sumY +=  data[name2][movie] # y(name)의 합\n",
    "            sumPowX += pow(data[name1][movie],2) # x 제곱의 합\n",
    "            sumPowY +=pow(data[name2][movie],2)# y 제곱의 합\n",
    "            sumXY += data[name1][movie]*  data[name2][movie] # x*y 의합\n",
    "            count+=  1#영화 개수\n",
    "            print((sumPowY -(pow(sumY ,2)/count)))\n",
    "        \n",
    "    return (sumXY -((sumX *sumY)/count))\\\n",
    "            / sqrt((sumPowX -(pow(sumX ,2)/count))\\\n",
    "                  * (sumPowY -(pow(sumY ,2)/count)))\n",
    "    "
   ]
  },
  {
   "cell_type": "code",
   "execution_count": 21,
   "metadata": {},
   "outputs": [
    {
     "name": "stdout",
     "output_type": "stream",
     "text": [
      "0.0\n",
      "0.125\n",
      "2.166666666666668\n",
      "6.25\n",
      "6.299999999999997\n",
      "6.375\n",
      "결과 0.39605901719066977\n"
     ]
    }
   ],
   "source": [
    "print('결과',pearson_correlation_cofficient(ratings, 'user1', 'user3'))\n",
    "# print(pearson_correlation_cofficient(ratings, 'user5', 'user8'))"
   ]
  },
  {
   "cell_type": "code",
   "execution_count": 19,
   "metadata": {},
   "outputs": [
    {
     "name": "stdout",
     "output_type": "stream",
     "text": [
      "(0.39605901719066977, 0.4369749265426754)\n",
      "(0.8934051474415642, 0.2966188313316005)\n"
     ]
    }
   ],
   "source": [
    "# 키: 밸류값 순서 맞춰줘야함\n",
    "user1= [2.5,3.5,3.0,3.5,2.5,3.0]\n",
    "user3= [3.0,3.5,1.5,5.0,3.5,3.0]\n",
    "user5= [3.5,2.5,4.0]\n",
    "user8= [4.5,1.0,4.0]\n",
    "\n",
    "\n",
    "import scipy.stats as stats\n",
    "corr1= stats.pearsonr(user1, user3)\n",
    "corr2= stats.pearsonr(user5, user8)\n",
    "\n",
    "print(corr1)\n",
    "print(corr2)\n",
    "\n",
    "#상관계수와 pvalue출력"
   ]
  },
  {
   "cell_type": "code",
   "execution_count": 165,
   "metadata": {},
   "outputs": [],
   "source": [
    "def nearest_user(data, name, index=3):\n",
    "    result= []\n",
    "    \n",
    "    for u in data:\n",
    "        if name != u: # 자기자신은 제외\n",
    "                result.append((pearson_correlation_cofficient(data, name, u), u))\n",
    "    result.sort()\n",
    "    result.reverse()\n",
    "    #자신(name)하고 가장 가까운 사람의 데이터 출력\n",
    "    return result[:index]\n"
   ]
  },
  {
   "cell_type": "code",
   "execution_count": 166,
   "metadata": {},
   "outputs": [
    {
     "ename": "ZeroDivisionError",
     "evalue": "float division by zero",
     "output_type": "error",
     "traceback": [
      "\u001b[0;31m---------------------------------------------------------------------------\u001b[0m",
      "\u001b[0;31mZeroDivisionError\u001b[0m                         Traceback (most recent call last)",
      "\u001b[0;32m<ipython-input-166-f8501ea2ef6d>\u001b[0m in \u001b[0;36m<module>\u001b[0;34m\u001b[0m\n\u001b[0;32m----> 1\u001b[0;31m \u001b[0mnearest_user\u001b[0m\u001b[0;34m(\u001b[0m\u001b[0mratings\u001b[0m\u001b[0;34m,\u001b[0m \u001b[0;34m'user9'\u001b[0m\u001b[0;34m,\u001b[0m\u001b[0mlen\u001b[0m\u001b[0;34m(\u001b[0m\u001b[0mratings\u001b[0m\u001b[0;34m)\u001b[0m\u001b[0;34m)\u001b[0m\u001b[0;34m\u001b[0m\u001b[0;34m\u001b[0m\u001b[0m\n\u001b[0m",
      "\u001b[0;32m<ipython-input-165-9a7916a2bf7e>\u001b[0m in \u001b[0;36mnearest_user\u001b[0;34m(data, name, index)\u001b[0m\n\u001b[1;32m      4\u001b[0m     \u001b[0;32mfor\u001b[0m \u001b[0mu\u001b[0m \u001b[0;32min\u001b[0m \u001b[0mdata\u001b[0m\u001b[0;34m:\u001b[0m\u001b[0;34m\u001b[0m\u001b[0;34m\u001b[0m\u001b[0m\n\u001b[1;32m      5\u001b[0m         \u001b[0;32mif\u001b[0m \u001b[0mname\u001b[0m \u001b[0;34m!=\u001b[0m \u001b[0mu\u001b[0m\u001b[0;34m:\u001b[0m \u001b[0;31m# 자기자신은 제외\u001b[0m\u001b[0;34m\u001b[0m\u001b[0;34m\u001b[0m\u001b[0m\n\u001b[0;32m----> 6\u001b[0;31m                 \u001b[0mresult\u001b[0m\u001b[0;34m.\u001b[0m\u001b[0mappend\u001b[0m\u001b[0;34m(\u001b[0m\u001b[0;34m(\u001b[0m\u001b[0mpearson_correlation_cofficient\u001b[0m\u001b[0;34m(\u001b[0m\u001b[0mdata\u001b[0m\u001b[0;34m,\u001b[0m \u001b[0mname\u001b[0m\u001b[0;34m,\u001b[0m \u001b[0mu\u001b[0m\u001b[0;34m)\u001b[0m\u001b[0;34m,\u001b[0m \u001b[0mu\u001b[0m\u001b[0;34m)\u001b[0m\u001b[0;34m)\u001b[0m\u001b[0;34m\u001b[0m\u001b[0;34m\u001b[0m\u001b[0m\n\u001b[0m\u001b[1;32m      7\u001b[0m     \u001b[0mresult\u001b[0m\u001b[0;34m.\u001b[0m\u001b[0msort\u001b[0m\u001b[0;34m(\u001b[0m\u001b[0;34m)\u001b[0m\u001b[0;34m\u001b[0m\u001b[0;34m\u001b[0m\u001b[0m\n\u001b[1;32m      8\u001b[0m     \u001b[0mresult\u001b[0m\u001b[0;34m.\u001b[0m\u001b[0mreverse\u001b[0m\u001b[0;34m(\u001b[0m\u001b[0;34m)\u001b[0m\u001b[0;34m\u001b[0m\u001b[0;34m\u001b[0m\u001b[0m\n",
      "\u001b[0;32m<ipython-input-162-9babdbe6d0a0>\u001b[0m in \u001b[0;36mpearson_correlation_cofficient\u001b[0;34m(data, name1, name2)\u001b[0m\n\u001b[1;32m     19\u001b[0m     \u001b[0;32mreturn\u001b[0m \u001b[0;34m(\u001b[0m\u001b[0msumXY\u001b[0m \u001b[0;34m-\u001b[0m\u001b[0;34m(\u001b[0m\u001b[0;34m(\u001b[0m\u001b[0msumX\u001b[0m \u001b[0;34m*\u001b[0m\u001b[0msumY\u001b[0m\u001b[0;34m)\u001b[0m\u001b[0;34m/\u001b[0m\u001b[0mcount\u001b[0m\u001b[0;34m)\u001b[0m\u001b[0;34m)\u001b[0m\u001b[0;31m\\\u001b[0m\u001b[0;34m\u001b[0m\u001b[0;34m\u001b[0m\u001b[0m\n\u001b[1;32m     20\u001b[0m             / sqrt((sumPowX -(pow(sumX ,2)/count))\\\n\u001b[0;32m---> 21\u001b[0;31m                   * (sumPowY -(pow(sumY ,2)/count)))\n\u001b[0m\u001b[1;32m     22\u001b[0m \u001b[0;34m\u001b[0m\u001b[0m\n",
      "\u001b[0;31mZeroDivisionError\u001b[0m: float division by zero"
     ]
    }
   ],
   "source": [
    "nearest_user(ratings, 'user9',len(ratings))"
   ]
  },
  {
   "cell_type": "code",
   "execution_count": 167,
   "metadata": {},
   "outputs": [],
   "source": [
    " def getRecommendation(data, user):\n",
    "        rcmmdList =[]\n",
    "        result = nearest_user(data, user, len(data))\n",
    "        \n",
    "        score =0\n",
    "        score_dic ={} # 유사도 총합을 위한 disc\n",
    "        similarity_dic = {} #평점 총합을 위한 딕셔너리\n",
    "        \n",
    "        for similarity, name in result:\n",
    "            if similarity <0 :\n",
    "                continue\n",
    "            for movie in data[name]:\n",
    "                if movie not in data[user]: #name이 평가를 내리지 않은 영화\n",
    "                    score += similarity * data[name][movie] #영화 평점 * 유사도\n",
    "                    score_dic.setdefault(movie, 0) # 기본값 설정\n",
    "                    score_dic[movie] += score #합계 구하기\n",
    "                    \n",
    "                    #조건에 맞는 사람의 유사도의 누적합 구하기\n",
    "                    similarity_dic.setdefault(movie, 0) \n",
    "                    similarity_dic[movie] += similarity\n",
    "                score = 0 # 영화가 바뀌었으니 초기화\n",
    "        for key in score_dic:\n",
    "            \n",
    "            # 평점 총합/ 유사도 총합\n",
    "            score_dic[key] = score_dic[key] / similarity_dic[key]\n",
    "            rcmmdList.append([score_dic[key], key])\n",
    "            \n",
    "        rcmmdList.sort()\n",
    "        rcmmdList.reverse()\n",
    "            \n",
    "        return rcmmdList\n",
    "        "
   ]
  },
  {
   "cell_type": "code",
   "execution_count": 168,
   "metadata": {},
   "outputs": [
    {
     "data": {
      "image/png": "[encoded data removed]",
      "text/plain": [
       "<Figure size 576x360 with 1 Axes>"
      ]
     },
     "metadata": {
      "needs_background": "light"
     },
     "output_type": "display_data"
    },
    {
     "data": {
      "image/png": "[encoded data removed]",
      "text/plain": [
       "<Figure size 576x360 with 1 Axes>"
      ]
     },
     "metadata": {
      "needs_background": "light"
     },
     "output_type": "display_data"
    }
   ],
   "source": [
    "draw_chart(ratings, 'user2','user6')\n",
    "draw_chart(ratings, 'user7','user1')"
   ]
  },
  {
   "cell_type": "code",
   "execution_count": 169,
   "metadata": {},
   "outputs": [
    {
     "name": "stdout",
     "output_type": "stream",
     "text": [
      "0.41791069697885247\n",
      "0.7470178808339965\n",
      "--------------------\n"
     ]
    },
    {
     "ename": "ZeroDivisionError",
     "evalue": "division by zero",
     "output_type": "error",
     "traceback": [
      "\u001b[0;31m---------------------------------------------------------------------------\u001b[0m",
      "\u001b[0;31mZeroDivisionError\u001b[0m                         Traceback (most recent call last)",
      "\u001b[0;32m<ipython-input-169-e6f8e9d3a269>\u001b[0m in \u001b[0;36m<module>\u001b[0;34m\u001b[0m\n\u001b[1;32m      2\u001b[0m \u001b[0mprint\u001b[0m\u001b[0;34m(\u001b[0m\u001b[0mpearson_correlation_cofficient\u001b[0m\u001b[0;34m(\u001b[0m\u001b[0mratings\u001b[0m\u001b[0;34m,\u001b[0m \u001b[0;34m'user7'\u001b[0m\u001b[0;34m,\u001b[0m \u001b[0;34m'user1'\u001b[0m\u001b[0;34m)\u001b[0m\u001b[0;34m)\u001b[0m\u001b[0;34m\u001b[0m\u001b[0;34m\u001b[0m\u001b[0m\n\u001b[1;32m      3\u001b[0m \u001b[0mprint\u001b[0m\u001b[0;34m(\u001b[0m\u001b[0;34m'-'\u001b[0m \u001b[0;34m*\u001b[0m\u001b[0;36m20\u001b[0m\u001b[0;34m)\u001b[0m\u001b[0;34m\u001b[0m\u001b[0;34m\u001b[0m\u001b[0m\n\u001b[0;32m----> 4\u001b[0;31m \u001b[0mprint\u001b[0m\u001b[0;34m(\u001b[0m\u001b[0mnearest_user\u001b[0m\u001b[0;34m(\u001b[0m\u001b[0mratings\u001b[0m\u001b[0;34m,\u001b[0m \u001b[0;34m'user8'\u001b[0m\u001b[0;34m,\u001b[0m\u001b[0mlen\u001b[0m\u001b[0;34m(\u001b[0m\u001b[0mratings\u001b[0m\u001b[0;34m)\u001b[0m\u001b[0;34m)\u001b[0m\u001b[0;34m)\u001b[0m\u001b[0;34m\u001b[0m\u001b[0;34m\u001b[0m\u001b[0m\n\u001b[0m\u001b[1;32m      5\u001b[0m \u001b[0mprint\u001b[0m\u001b[0;34m(\u001b[0m\u001b[0;34m'-'\u001b[0m \u001b[0;34m*\u001b[0m\u001b[0;36m20\u001b[0m\u001b[0;34m)\u001b[0m\u001b[0;34m\u001b[0m\u001b[0;34m\u001b[0m\u001b[0m\n\u001b[1;32m      6\u001b[0m \u001b[0;34m\u001b[0m\u001b[0m\n",
      "\u001b[0;32m<ipython-input-165-9a7916a2bf7e>\u001b[0m in \u001b[0;36mnearest_user\u001b[0;34m(data, name, index)\u001b[0m\n\u001b[1;32m      4\u001b[0m     \u001b[0;32mfor\u001b[0m \u001b[0mu\u001b[0m \u001b[0;32min\u001b[0m \u001b[0mdata\u001b[0m\u001b[0;34m:\u001b[0m\u001b[0;34m\u001b[0m\u001b[0;34m\u001b[0m\u001b[0m\n\u001b[1;32m      5\u001b[0m         \u001b[0;32mif\u001b[0m \u001b[0mname\u001b[0m \u001b[0;34m!=\u001b[0m \u001b[0mu\u001b[0m\u001b[0;34m:\u001b[0m \u001b[0;31m# 자기자신은 제외\u001b[0m\u001b[0;34m\u001b[0m\u001b[0;34m\u001b[0m\u001b[0m\n\u001b[0;32m----> 6\u001b[0;31m                 \u001b[0mresult\u001b[0m\u001b[0;34m.\u001b[0m\u001b[0mappend\u001b[0m\u001b[0;34m(\u001b[0m\u001b[0;34m(\u001b[0m\u001b[0mpearson_correlation_cofficient\u001b[0m\u001b[0;34m(\u001b[0m\u001b[0mdata\u001b[0m\u001b[0;34m,\u001b[0m \u001b[0mname\u001b[0m\u001b[0;34m,\u001b[0m \u001b[0mu\u001b[0m\u001b[0;34m)\u001b[0m\u001b[0;34m,\u001b[0m \u001b[0mu\u001b[0m\u001b[0;34m)\u001b[0m\u001b[0;34m)\u001b[0m\u001b[0;34m\u001b[0m\u001b[0;34m\u001b[0m\u001b[0m\n\u001b[0m\u001b[1;32m      7\u001b[0m     \u001b[0mresult\u001b[0m\u001b[0;34m.\u001b[0m\u001b[0msort\u001b[0m\u001b[0;34m(\u001b[0m\u001b[0;34m)\u001b[0m\u001b[0;34m\u001b[0m\u001b[0;34m\u001b[0m\u001b[0m\n\u001b[1;32m      8\u001b[0m     \u001b[0mresult\u001b[0m\u001b[0;34m.\u001b[0m\u001b[0mreverse\u001b[0m\u001b[0;34m(\u001b[0m\u001b[0;34m)\u001b[0m\u001b[0;34m\u001b[0m\u001b[0;34m\u001b[0m\u001b[0m\n",
      "\u001b[0;32m<ipython-input-162-9babdbe6d0a0>\u001b[0m in \u001b[0;36mpearson_correlation_cofficient\u001b[0;34m(data, name1, name2)\u001b[0m\n\u001b[1;32m     17\u001b[0m \u001b[0;34m\u001b[0m\u001b[0m\n\u001b[1;32m     18\u001b[0m \u001b[0;34m\u001b[0m\u001b[0m\n\u001b[0;32m---> 19\u001b[0;31m     \u001b[0;32mreturn\u001b[0m \u001b[0;34m(\u001b[0m\u001b[0msumXY\u001b[0m \u001b[0;34m-\u001b[0m\u001b[0;34m(\u001b[0m\u001b[0;34m(\u001b[0m\u001b[0msumX\u001b[0m \u001b[0;34m*\u001b[0m\u001b[0msumY\u001b[0m\u001b[0;34m)\u001b[0m\u001b[0;34m/\u001b[0m\u001b[0mcount\u001b[0m\u001b[0;34m)\u001b[0m\u001b[0;34m)\u001b[0m\u001b[0;31m\\\u001b[0m\u001b[0;34m\u001b[0m\u001b[0;34m\u001b[0m\u001b[0m\n\u001b[0m\u001b[1;32m     20\u001b[0m             / sqrt((sumPowX -(pow(sumX ,2)/count))\\\n\u001b[1;32m     21\u001b[0m                   * (sumPowY -(pow(sumY ,2)/count)))\n",
      "\u001b[0;31mZeroDivisionError\u001b[0m: division by zero"
     ]
    }
   ],
   "source": [
    "print(pearson_correlation_cofficient(ratings, 'user2', 'user6'))\n",
    "print(pearson_correlation_cofficient(ratings, 'user7', 'user1'))\n",
    "print('-' *20)\n",
    "print(nearest_user(ratings, 'user8',len(ratings)))\n",
    "print('-' *20)\n",
    "\n"
   ]
  },
  {
   "cell_type": "code",
   "execution_count": 170,
   "metadata": {},
   "outputs": [
    {
     "ename": "ZeroDivisionError",
     "evalue": "division by zero",
     "output_type": "error",
     "traceback": [
      "\u001b[0;31m---------------------------------------------------------------------------\u001b[0m",
      "\u001b[0;31mZeroDivisionError\u001b[0m                         Traceback (most recent call last)",
      "\u001b[0;32m<ipython-input-170-505c2806aed2>\u001b[0m in \u001b[0;36m<module>\u001b[0;34m\u001b[0m\n\u001b[0;32m----> 1\u001b[0;31m \u001b[0mrcmmdList\u001b[0m\u001b[0;34m=\u001b[0m \u001b[0mgetRecommendation\u001b[0m\u001b[0;34m(\u001b[0m\u001b[0mratings\u001b[0m\u001b[0;34m,\u001b[0m \u001b[0;34m'user8'\u001b[0m\u001b[0;34m)\u001b[0m\u001b[0;34m\u001b[0m\u001b[0;34m\u001b[0m\u001b[0m\n\u001b[0m\u001b[1;32m      2\u001b[0m \u001b[0;34m\u001b[0m\u001b[0m\n\u001b[1;32m      3\u001b[0m \u001b[0mprint\u001b[0m\u001b[0;34m(\u001b[0m\u001b[0mrcmmdList\u001b[0m\u001b[0;34m)\u001b[0m\u001b[0;34m\u001b[0m\u001b[0;34m\u001b[0m\u001b[0m\n",
      "\u001b[0;32m<ipython-input-167-5b069703418a>\u001b[0m in \u001b[0;36mgetRecommendation\u001b[0;34m(data, user)\u001b[0m\n\u001b[1;32m      1\u001b[0m \u001b[0;32mdef\u001b[0m \u001b[0mgetRecommendation\u001b[0m\u001b[0;34m(\u001b[0m\u001b[0mdata\u001b[0m\u001b[0;34m,\u001b[0m \u001b[0muser\u001b[0m\u001b[0;34m)\u001b[0m\u001b[0;34m:\u001b[0m\u001b[0;34m\u001b[0m\u001b[0;34m\u001b[0m\u001b[0m\n\u001b[1;32m      2\u001b[0m        \u001b[0mrcmmdList\u001b[0m \u001b[0;34m=\u001b[0m\u001b[0;34m[\u001b[0m\u001b[0;34m]\u001b[0m\u001b[0;34m\u001b[0m\u001b[0;34m\u001b[0m\u001b[0m\n\u001b[0;32m----> 3\u001b[0;31m        \u001b[0mresult\u001b[0m \u001b[0;34m=\u001b[0m \u001b[0mnearest_user\u001b[0m\u001b[0;34m(\u001b[0m\u001b[0mdata\u001b[0m\u001b[0;34m,\u001b[0m \u001b[0muser\u001b[0m\u001b[0;34m,\u001b[0m \u001b[0mlen\u001b[0m\u001b[0;34m(\u001b[0m\u001b[0mdata\u001b[0m\u001b[0;34m)\u001b[0m\u001b[0;34m)\u001b[0m\u001b[0;34m\u001b[0m\u001b[0;34m\u001b[0m\u001b[0m\n\u001b[0m\u001b[1;32m      4\u001b[0m \u001b[0;34m\u001b[0m\u001b[0m\n\u001b[1;32m      5\u001b[0m        \u001b[0mscore\u001b[0m \u001b[0;34m=\u001b[0m\u001b[0;36m0\u001b[0m\u001b[0;34m\u001b[0m\u001b[0;34m\u001b[0m\u001b[0m\n",
      "\u001b[0;32m<ipython-input-165-9a7916a2bf7e>\u001b[0m in \u001b[0;36mnearest_user\u001b[0;34m(data, name, index)\u001b[0m\n\u001b[1;32m      4\u001b[0m     \u001b[0;32mfor\u001b[0m \u001b[0mu\u001b[0m \u001b[0;32min\u001b[0m \u001b[0mdata\u001b[0m\u001b[0;34m:\u001b[0m\u001b[0;34m\u001b[0m\u001b[0;34m\u001b[0m\u001b[0m\n\u001b[1;32m      5\u001b[0m         \u001b[0;32mif\u001b[0m \u001b[0mname\u001b[0m \u001b[0;34m!=\u001b[0m \u001b[0mu\u001b[0m\u001b[0;34m:\u001b[0m \u001b[0;31m# 자기자신은 제외\u001b[0m\u001b[0;34m\u001b[0m\u001b[0;34m\u001b[0m\u001b[0m\n\u001b[0;32m----> 6\u001b[0;31m                 \u001b[0mresult\u001b[0m\u001b[0;34m.\u001b[0m\u001b[0mappend\u001b[0m\u001b[0;34m(\u001b[0m\u001b[0;34m(\u001b[0m\u001b[0mpearson_correlation_cofficient\u001b[0m\u001b[0;34m(\u001b[0m\u001b[0mdata\u001b[0m\u001b[0;34m,\u001b[0m \u001b[0mname\u001b[0m\u001b[0;34m,\u001b[0m \u001b[0mu\u001b[0m\u001b[0;34m)\u001b[0m\u001b[0;34m,\u001b[0m \u001b[0mu\u001b[0m\u001b[0;34m)\u001b[0m\u001b[0;34m)\u001b[0m\u001b[0;34m\u001b[0m\u001b[0;34m\u001b[0m\u001b[0m\n\u001b[0m\u001b[1;32m      7\u001b[0m     \u001b[0mresult\u001b[0m\u001b[0;34m.\u001b[0m\u001b[0msort\u001b[0m\u001b[0;34m(\u001b[0m\u001b[0;34m)\u001b[0m\u001b[0;34m\u001b[0m\u001b[0;34m\u001b[0m\u001b[0m\n\u001b[1;32m      8\u001b[0m     \u001b[0mresult\u001b[0m\u001b[0;34m.\u001b[0m\u001b[0mreverse\u001b[0m\u001b[0;34m(\u001b[0m\u001b[0;34m)\u001b[0m\u001b[0;34m\u001b[0m\u001b[0;34m\u001b[0m\u001b[0m\n",
      "\u001b[0;32m<ipython-input-162-9babdbe6d0a0>\u001b[0m in \u001b[0;36mpearson_correlation_cofficient\u001b[0;34m(data, name1, name2)\u001b[0m\n\u001b[1;32m     17\u001b[0m \u001b[0;34m\u001b[0m\u001b[0m\n\u001b[1;32m     18\u001b[0m \u001b[0;34m\u001b[0m\u001b[0m\n\u001b[0;32m---> 19\u001b[0;31m     \u001b[0;32mreturn\u001b[0m \u001b[0;34m(\u001b[0m\u001b[0msumXY\u001b[0m \u001b[0;34m-\u001b[0m\u001b[0;34m(\u001b[0m\u001b[0;34m(\u001b[0m\u001b[0msumX\u001b[0m \u001b[0;34m*\u001b[0m\u001b[0msumY\u001b[0m\u001b[0;34m)\u001b[0m\u001b[0;34m/\u001b[0m\u001b[0mcount\u001b[0m\u001b[0;34m)\u001b[0m\u001b[0;34m)\u001b[0m\u001b[0;31m\\\u001b[0m\u001b[0;34m\u001b[0m\u001b[0;34m\u001b[0m\u001b[0m\n\u001b[0m\u001b[1;32m     20\u001b[0m             / sqrt((sumPowX -(pow(sumX ,2)/count))\\\n\u001b[1;32m     21\u001b[0m                   * (sumPowY -(pow(sumY ,2)/count)))\n",
      "\u001b[0;31mZeroDivisionError\u001b[0m: division by zero"
     ]
    }
   ],
   "source": [
    "rcmmdList= getRecommendation(ratings, 'user8')\n",
    "\n",
    "print(rcmmdList)"
   ]
  },
  {
   "cell_type": "code",
   "execution_count": 171,
   "metadata": {},
   "outputs": [
    {
     "name": "stdout",
     "output_type": "stream",
     "text": [
      "[2.7683838067022903, '보헤미안 랩소디']\n"
     ]
    }
   ],
   "source": [
    "print(rcmmdList[0])"
   ]
  },
  {
   "cell_type": "code",
   "execution_count": 172,
   "metadata": {},
   "outputs": [
    {
     "ename": "ZeroDivisionError",
     "evalue": "float division by zero",
     "output_type": "error",
     "traceback": [
      "\u001b[0;31m---------------------------------------------------------------------------\u001b[0m",
      "\u001b[0;31mZeroDivisionError\u001b[0m                         Traceback (most recent call last)",
      "\u001b[0;32m<ipython-input-172-49a365e26d20>\u001b[0m in \u001b[0;36m<module>\u001b[0;34m\u001b[0m\n\u001b[0;32m----> 1\u001b[0;31m \u001b[0mrcmmdList\u001b[0m\u001b[0;34m=\u001b[0m \u001b[0mgetRecommendation\u001b[0m\u001b[0;34m(\u001b[0m\u001b[0mratings\u001b[0m\u001b[0;34m,\u001b[0m \u001b[0;34m'user7'\u001b[0m\u001b[0;34m)\u001b[0m\u001b[0;34m\u001b[0m\u001b[0;34m\u001b[0m\u001b[0m\n\u001b[0m\u001b[1;32m      2\u001b[0m \u001b[0mprint\u001b[0m\u001b[0;34m(\u001b[0m\u001b[0mrcmmdList\u001b[0m\u001b[0;34m)\u001b[0m\u001b[0;34m\u001b[0m\u001b[0;34m\u001b[0m\u001b[0m\n",
      "\u001b[0;32m<ipython-input-167-5b069703418a>\u001b[0m in \u001b[0;36mgetRecommendation\u001b[0;34m(data, user)\u001b[0m\n\u001b[1;32m      1\u001b[0m \u001b[0;32mdef\u001b[0m \u001b[0mgetRecommendation\u001b[0m\u001b[0;34m(\u001b[0m\u001b[0mdata\u001b[0m\u001b[0;34m,\u001b[0m \u001b[0muser\u001b[0m\u001b[0;34m)\u001b[0m\u001b[0;34m:\u001b[0m\u001b[0;34m\u001b[0m\u001b[0;34m\u001b[0m\u001b[0m\n\u001b[1;32m      2\u001b[0m        \u001b[0mrcmmdList\u001b[0m \u001b[0;34m=\u001b[0m\u001b[0;34m[\u001b[0m\u001b[0;34m]\u001b[0m\u001b[0;34m\u001b[0m\u001b[0;34m\u001b[0m\u001b[0m\n\u001b[0;32m----> 3\u001b[0;31m        \u001b[0mresult\u001b[0m \u001b[0;34m=\u001b[0m \u001b[0mnearest_user\u001b[0m\u001b[0;34m(\u001b[0m\u001b[0mdata\u001b[0m\u001b[0;34m,\u001b[0m \u001b[0muser\u001b[0m\u001b[0;34m,\u001b[0m \u001b[0mlen\u001b[0m\u001b[0;34m(\u001b[0m\u001b[0mdata\u001b[0m\u001b[0;34m)\u001b[0m\u001b[0;34m)\u001b[0m\u001b[0;34m\u001b[0m\u001b[0;34m\u001b[0m\u001b[0m\n\u001b[0m\u001b[1;32m      4\u001b[0m \u001b[0;34m\u001b[0m\u001b[0m\n\u001b[1;32m      5\u001b[0m        \u001b[0mscore\u001b[0m \u001b[0;34m=\u001b[0m\u001b[0;36m0\u001b[0m\u001b[0;34m\u001b[0m\u001b[0;34m\u001b[0m\u001b[0m\n",
      "\u001b[0;32m<ipython-input-165-9a7916a2bf7e>\u001b[0m in \u001b[0;36mnearest_user\u001b[0;34m(data, name, index)\u001b[0m\n\u001b[1;32m      4\u001b[0m     \u001b[0;32mfor\u001b[0m \u001b[0mu\u001b[0m \u001b[0;32min\u001b[0m \u001b[0mdata\u001b[0m\u001b[0;34m:\u001b[0m\u001b[0;34m\u001b[0m\u001b[0;34m\u001b[0m\u001b[0m\n\u001b[1;32m      5\u001b[0m         \u001b[0;32mif\u001b[0m \u001b[0mname\u001b[0m \u001b[0;34m!=\u001b[0m \u001b[0mu\u001b[0m\u001b[0;34m:\u001b[0m \u001b[0;31m# 자기자신은 제외\u001b[0m\u001b[0;34m\u001b[0m\u001b[0;34m\u001b[0m\u001b[0m\n\u001b[0;32m----> 6\u001b[0;31m                 \u001b[0mresult\u001b[0m\u001b[0;34m.\u001b[0m\u001b[0mappend\u001b[0m\u001b[0;34m(\u001b[0m\u001b[0;34m(\u001b[0m\u001b[0mpearson_correlation_cofficient\u001b[0m\u001b[0;34m(\u001b[0m\u001b[0mdata\u001b[0m\u001b[0;34m,\u001b[0m \u001b[0mname\u001b[0m\u001b[0;34m,\u001b[0m \u001b[0mu\u001b[0m\u001b[0;34m)\u001b[0m\u001b[0;34m,\u001b[0m \u001b[0mu\u001b[0m\u001b[0;34m)\u001b[0m\u001b[0;34m)\u001b[0m\u001b[0;34m\u001b[0m\u001b[0;34m\u001b[0m\u001b[0m\n\u001b[0m\u001b[1;32m      7\u001b[0m     \u001b[0mresult\u001b[0m\u001b[0;34m.\u001b[0m\u001b[0msort\u001b[0m\u001b[0;34m(\u001b[0m\u001b[0;34m)\u001b[0m\u001b[0;34m\u001b[0m\u001b[0;34m\u001b[0m\u001b[0m\n\u001b[1;32m      8\u001b[0m     \u001b[0mresult\u001b[0m\u001b[0;34m.\u001b[0m\u001b[0mreverse\u001b[0m\u001b[0;34m(\u001b[0m\u001b[0;34m)\u001b[0m\u001b[0;34m\u001b[0m\u001b[0;34m\u001b[0m\u001b[0m\n",
      "\u001b[0;32m<ipython-input-162-9babdbe6d0a0>\u001b[0m in \u001b[0;36mpearson_correlation_cofficient\u001b[0;34m(data, name1, name2)\u001b[0m\n\u001b[1;32m     19\u001b[0m     \u001b[0;32mreturn\u001b[0m \u001b[0;34m(\u001b[0m\u001b[0msumXY\u001b[0m \u001b[0;34m-\u001b[0m\u001b[0;34m(\u001b[0m\u001b[0;34m(\u001b[0m\u001b[0msumX\u001b[0m \u001b[0;34m*\u001b[0m\u001b[0msumY\u001b[0m\u001b[0;34m)\u001b[0m\u001b[0;34m/\u001b[0m\u001b[0mcount\u001b[0m\u001b[0;34m)\u001b[0m\u001b[0;34m)\u001b[0m\u001b[0;31m\\\u001b[0m\u001b[0;34m\u001b[0m\u001b[0;34m\u001b[0m\u001b[0m\n\u001b[1;32m     20\u001b[0m             / sqrt((sumPowX -(pow(sumX ,2)/count))\\\n\u001b[0;32m---> 21\u001b[0;31m                   * (sumPowY -(pow(sumY ,2)/count)))\n\u001b[0m\u001b[1;32m     22\u001b[0m \u001b[0;34m\u001b[0m\u001b[0m\n",
      "\u001b[0;31mZeroDivisionError\u001b[0m: float division by zero"
     ]
    }
   ],
   "source": [
    "rcmmdList= getRecommendation(ratings, 'user7')\n",
    "print(rcmmdList)\n"
   ]
  },
  {
   "cell_type": "code",
   "execution_count": null,
   "metadata": {},
   "outputs": [],
   "source": []
  },
  {
   "cell_type": "code",
   "execution_count": null,
   "metadata": {},
   "outputs": [],
   "source": []
  }
 ],
 "metadata": {
  "kernelspec": {
   "display_name": "Python 3",
   "language": "python",
   "name": "python3"
  },
  "language_info": {
   "codemirror_mode": {
    "name": "ipython",
    "version": 3
   },
   "file_extension": ".py",
   "mimetype": "text/x-python",
   "name": "python",
   "nbconvert_exporter": "python",
   "pygments_lexer": "ipython3",
   "version": "3.7.4"
  }
 },
 "nbformat": 4,
 "nbformat_minor": 4
}

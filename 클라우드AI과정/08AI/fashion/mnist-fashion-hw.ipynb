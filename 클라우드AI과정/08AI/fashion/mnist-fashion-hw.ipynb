{
 "cells": [
  {
   "cell_type": "markdown",
   "metadata": {},
   "source": [
    "## test 데이터 중 첫번째 데이터 이미지 제출"
   ]
  },
  {
   "cell_type": "code",
   "execution_count": 7,
   "metadata": {},
   "outputs": [
    {
     "data": {
      "image/png": "[encoded data removed]",
      "text/plain": [
       "<Figure size 432x288 with 1 Axes>"
      ]
     },
     "metadata": {
      "needs_background": "light"
     },
     "output_type": "display_data"
    },
    {
     "name": "stdout",
     "output_type": "stream",
     "text": [
      "[0.01       0.01       0.01       0.01       0.01       0.01\n",
      " 0.01       0.04494118 0.04105882 0.01       0.01       0.142\n",
      " 0.12258824 0.03717647 0.01       0.05270588 0.10317647 0.01\n",
      " 0.01       0.02164706 0.02164706 0.01388235 0.01       0.01388235\n",
      " 0.01388235 0.01       0.01       0.01       0.01       0.01\n",
      " 0.02552941 0.01       0.01       0.01388235 0.01       0.01\n",
      " 0.01       0.01       0.01       0.18082353 0.35164706 0.39435294\n",
      " 0.48364706 0.48752941 0.32058824 0.01       0.01       0.01\n",
      " 0.01       0.01388235 0.01388235 0.01388235 0.01       0.01\n",
      " 0.01       0.01       0.01       0.01       0.01388235 0.01776471\n",
      " 0.01       0.01       0.01       0.02164706 0.18858824 0.68552941\n",
      " 0.97670588 0.27011765 0.01       0.37494118 0.82529412 0.24682353\n",
      " 0.06435294 0.83305882 0.61952941 0.15364706 0.01       0.01\n",
      " 0.01       0.01       0.01388235 0.01       0.01       0.01\n",
      " 0.01       0.01       0.01776471 0.01776471 0.01       0.09929412\n",
      " 0.66223529 0.80976471 0.94952941 0.93788235 0.934      0.84082353\n",
      " 0.49529412 0.24682353 0.44870588 0.29729412 0.52635294 0.92623529\n",
      " 0.934      0.92623529 0.79811765 0.72435294 0.08764706 0.01\n",
      " 0.01388235 0.01       0.01       0.01       0.01       0.01\n",
      " 0.01388235 0.01       0.01       0.68941176 0.96117647 0.87576471\n",
      " 0.81364706 0.80588235 0.80976471 0.84858824 1.         0.93011765\n",
      " 0.98447059 0.91070588 0.87576471 0.83305882 0.78647059 0.80588235\n",
      " 0.84858824 0.97670588 0.68164706 0.01       0.01       0.01776471\n",
      " 0.01       0.01       0.01       0.01       0.03717647 0.01\n",
      " 0.21576471 0.88352941 0.79035294 0.77482353 0.78647059 0.79035294\n",
      " 0.80976471 0.78258824 0.77482353 0.72823529 0.76317647 0.802\n",
      " 0.91070588 0.88741176 0.97670588 0.86023529 0.76317647 0.80588235\n",
      " 0.89905882 0.13811765 0.01       0.01388235 0.01       0.01\n",
      " 0.01       0.01       0.01388235 0.01       0.52635294 0.87576471\n",
      " 0.81752941 0.75541176 0.76705882 0.91458824 0.88741176 0.84858824\n",
      " 0.75152941 0.82529412 0.73988235 0.92623529 0.73211765 0.01\n",
      " 0.20411765 0.91847059 0.81364706 0.81752941 0.90682353 0.52635294\n",
      " 0.01       0.01       0.01       0.01       0.01       0.01\n",
      " 0.01       0.01       0.84858824 0.85635294 0.84858824 0.76317647\n",
      " 0.89905882 0.67776471 0.25847059 0.86023529 0.79035294 0.78647059\n",
      " 0.78647059 0.96894118 0.274      0.28952941 0.21964706 0.65058824\n",
      " 0.93011765 0.83305882 0.86023529 0.88741176 0.01       0.01\n",
      " 0.01       0.01       0.01       0.01       0.01       0.20411765\n",
      " 0.868      0.81364706 0.86411765 0.82917647 0.81364706 0.65058824\n",
      " 0.54576471 0.80588235 0.75541176 0.75152941 0.74764706 0.91070588\n",
      " 0.472      0.44870588 0.27011765 0.68164706 0.93011765 0.85247059\n",
      " 0.81752941 0.868      0.12258824 0.01       0.01       0.01\n",
      " 0.01       0.01       0.01       0.51858824 0.84858824 0.78647059\n",
      " 0.86023529 0.81364706 0.83305882 0.90682353 0.88741176 0.75929412\n",
      " 0.84082353 0.87964706 0.80976471 0.79811765 0.90294118 0.48364706\n",
      " 0.44482353 0.91847059 0.87964706 0.84082353 0.802      0.87964706\n",
      " 0.48752941 0.01       0.01       0.01       0.01       0.01\n",
      " 0.01       0.76705882 0.83305882 0.802      0.82917647 0.79811765\n",
      " 0.80588235 0.78647059 0.72435294 0.83694118 0.63894118 0.54576471\n",
      " 0.75929412 0.81364706 0.79811765 0.90682353 0.96117647 0.81752941\n",
      " 0.86411765 0.82917647 0.79811765 0.86023529 0.70494118 0.01\n",
      " 0.01       0.01       0.01       0.01       0.04105882 0.72823529\n",
      " 0.75152941 0.85635294 0.91458824 0.86023529 0.79035294 0.868\n",
      " 0.83694118 0.96505882 0.45258824 0.50305882 0.32058824 0.51082353\n",
      " 0.91070588 0.77870588 0.85635294 0.81364706 0.92623529 0.89129412\n",
      " 0.86411765 0.84858824 0.67776471 0.09152941 0.01       0.01\n",
      " 0.01       0.01       0.09152941 0.02552941 0.02941176 0.25847059\n",
      " 0.63117647 0.87964706 0.87964706 0.56905882 0.736      0.77482353\n",
      " 0.82917647 0.81364706 0.73211765 0.75541176 0.82529412 0.83305882\n",
      " 0.85635294 0.88352941 0.92623529 0.69717647 0.42152941 0.22741176\n",
      " 0.11870588 0.01388235 0.01       0.01       0.01       0.01\n",
      " 0.01388235 0.01388235 0.01       0.01776471 0.01       0.46035294\n",
      " 0.98835294 0.38270588 0.47588235 0.208      0.29341176 0.28176471\n",
      " 0.48752941 0.31670588 0.30505882 0.25847059 0.63894118 0.98835294\n",
      " 0.46811765 0.01388235 0.02164706 0.01       0.02552941 0.01776471\n",
      " 0.01       0.01       0.01       0.01       0.01       0.01\n",
      " 0.01       0.01       0.01       0.45647059 0.88741176 0.57294118\n",
      " 0.67       0.61176471 0.65058824 0.63505882 0.62729412 0.49529412\n",
      " 0.68941176 0.55352941 0.68552941 0.92623529 0.37882353 0.01\n",
      " 0.01776471 0.01776471 0.01       0.01       0.01       0.01\n",
      " 0.01       0.01       0.01       0.01       0.01388235 0.01776471\n",
      " 0.01       0.51858824 0.88352941 0.802      0.85247059 0.868\n",
      " 0.86411765 0.85247059 0.87964706 0.90682353 0.88741176 0.93011765\n",
      " 0.79811765 0.93011765 0.406      0.01       0.02552941 0.01776471\n",
      " 0.01388235 0.01776471 0.01       0.01       0.01       0.01\n",
      " 0.01388235 0.01388235 0.01       0.02164706 0.01       0.53411765\n",
      " 0.87576471 0.79035294 0.78258824 0.76317647 0.77870588 0.76705882\n",
      " 0.77870588 0.75541176 0.79811765 0.78258824 0.81364706 0.90682353\n",
      " 0.44482353 0.01       0.02552941 0.01       0.01       0.01\n",
      " 0.01       0.01       0.01       0.01       0.01388235 0.01388235\n",
      " 0.01       0.01388235 0.01       0.53023529 0.87576471 0.78258824\n",
      " 0.80976471 0.78258824 0.79035294 0.78647059 0.79811765 0.80976471\n",
      " 0.81364706 0.82529412 0.80976471 0.89129412 0.472      0.01\n",
      " 0.02164706 0.01       0.01       0.01388235 0.01       0.01\n",
      " 0.01       0.01       0.01       0.01       0.01       0.01388235\n",
      " 0.01       0.54964706 0.87576471 0.77870588 0.802      0.78647059\n",
      " 0.79035294 0.78647059 0.79035294 0.802      0.80976471 0.81752941\n",
      " 0.80976471 0.89905882 0.50694118 0.01       0.02552941 0.01\n",
      " 0.01       0.01       0.01       0.01       0.01       0.01\n",
      " 0.01       0.01       0.01       0.01388235 0.01       0.57294118\n",
      " 0.87576471 0.76705882 0.80588235 0.79035294 0.79035294 0.78647059\n",
      " 0.802      0.802      0.80976471 0.82917647 0.80588235 0.90294118\n",
      " 0.54964706 0.01       0.01776471 0.01       0.01       0.01\n",
      " 0.01       0.01       0.01       0.01       0.01388235 0.01\n",
      " 0.01388235 0.01       0.01       0.61952941 0.868      0.76317647\n",
      " 0.802      0.802      0.79035294 0.79035294 0.79811765 0.80588235\n",
      " 0.81752941 0.82917647 0.802      0.90294118 0.58458824 0.01\n",
      " 0.01776471 0.01       0.01388235 0.01388235 0.01       0.01\n",
      " 0.01       0.01       0.01388235 0.01388235 0.01388235 0.01\n",
      " 0.01       0.65447059 0.86411765 0.76317647 0.79811765 0.79811765\n",
      " 0.80588235 0.79811765 0.79811765 0.80976471 0.81364706 0.83305882\n",
      " 0.802      0.90294118 0.61952941 0.01       0.01776471 0.01388235\n",
      " 0.01388235 0.01388235 0.01       0.01       0.01       0.01\n",
      " 0.01       0.01       0.01       0.01       0.01       0.67388235\n",
      " 0.868      0.76705882 0.80976471 0.78647059 0.78258824 0.79811765\n",
      " 0.79811765 0.80588235 0.80976471 0.81364706 0.802      0.88741176\n",
      " 0.71270588 0.01       0.01       0.01       0.01       0.01\n",
      " 0.01       0.01       0.01       0.01       0.01       0.01\n",
      " 0.01388235 0.01       0.01       0.65058824 0.87964706 0.77482353\n",
      " 0.79035294 0.81752941 0.78258824 0.802      0.80588235 0.81364706\n",
      " 0.82529412 0.83694118 0.81364706 0.89905882 0.736      0.01\n",
      " 0.01388235 0.01776471 0.01       0.01       0.01       0.01\n",
      " 0.01       0.01       0.01       0.01       0.01       0.01\n",
      " 0.01       0.50694118 0.79035294 0.79811765 0.79035294 0.81364706\n",
      " 0.82917647 0.79811765 0.80588235 0.80976471 0.82529412 0.83694118\n",
      " 0.80588235 0.88352941 0.75152941 0.01       0.01       0.01776471\n",
      " 0.01       0.01       0.01       0.01       0.01       0.01\n",
      " 0.01       0.01       0.01388235 0.01388235 0.01       0.55741176\n",
      " 0.79035294 0.75152941 0.73988235 0.76317647 0.736      0.736\n",
      " 0.75152941 0.75929412 0.76705882 0.78258824 0.78258824 0.85635294\n",
      " 0.63505882 0.01       0.01       0.01       0.01       0.01\n",
      " 0.01       0.01       0.01       0.01       0.01       0.01\n",
      " 0.01       0.01388235 0.01       0.83305882 0.94176471 0.83694118\n",
      " 0.93788235 0.91458824 0.93788235 0.90682353 0.91070588 0.92623529\n",
      " 0.94952941 0.96117647 0.87964706 0.96117647 0.91847059 0.01\n",
      " 0.02164706 0.01       0.01       0.01       0.01       0.01\n",
      " 0.01       0.01       0.01       0.01       0.01       0.01\n",
      " 0.01       0.15364706 0.27788235 0.37494118 0.48752941 0.50305882\n",
      " 0.54576471 0.54576471 0.56129412 0.57294118 0.53411765 0.49529412\n",
      " 0.40988235 0.34776471 0.22741176 0.01       0.01       0.01\n",
      " 0.01       0.01       0.01       0.01      ]\n"
     ]
    }
   ],
   "source": [
    "import numpy as np\n",
    "import matplotlib.pyplot as plt\n",
    "\n",
    "data_file = open(\"fashion-mnist_test.csv\", \"r\", )\n",
    "data_list = data_file.readlines()\n",
    "data_file.close()\n",
    "\n",
    "all_values = data_list[0].split(',')\n",
    "image_array = np.asfarray(all_values[1:]).reshape((28,28)) # 튜플 형태로 데이터 삽입\n",
    "\n",
    "plt.imshow(image_array, cmap= 'Greys', Interpolation = 'None')\n",
    "plt.show()\n",
    "\n",
    "scaled_input = np.asfarray(all_values[1:])/ 255.0 * 0.99 + 0.01\n",
    "print(scaled_input)\n",
    "\n"
   ]
  },
  {
   "cell_type": "markdown",
   "metadata": {},
   "source": [
    "## 2. fashion-mnist_train.csv(60000개), fashion-mnist_test.csv(10000개) \n",
    "\n",
    "- random forest classifier\n",
    "- gradient boosting classifier\n",
    "- mlp classifier\n",
    "- svc classifier\n",
    "- 이 중 최적의 알고리즘과 파라미터 학습 (gridsearchCV)\n",
    "- 정답률 확인\n",
    "- jupyter 코드 제출\n"
   ]
  },
  {
   "cell_type": "code",
   "execution_count": 8,
   "metadata": {},
   "outputs": [],
   "source": [
    "import numpy as np\n",
    "import pandas as pd \n",
    "\n",
    "from sklearn.metrics import accuracy_score\n",
    "from sklearn.model_selection import train_test_split\n",
    "\n",
    "from sklearn.ensemble import  RandomForestClassifier, GradientBoostingClassifier\n",
    "from sklearn.neural_network import MLPClassifier\n",
    "\n",
    "from sklearn.ensemble import  VotingClassifier\n",
    "from sklearn.svm import  SVC\n",
    "\n",
    "from sklearn.model_selection import GridSearchCV"
   ]
  },
  {
   "cell_type": "code",
   "execution_count": 9,
   "metadata": {},
   "outputs": [],
   "source": [
    "train_df = pd.read_csv(\"fashion-mnist_train.csv\")\n",
    "test_df = pd.read_csv(\"fashion-mnist_test.csv\")\n",
    "\n",
    "train_data = train_df.values\n",
    "test_data = test_df.values"
   ]
  },
  {
   "cell_type": "code",
   "execution_count": 10,
   "metadata": {},
   "outputs": [],
   "source": [
    "# #8:2 -> 학습데이터 : 검증데이터\n",
    "# X_train, X_test,Y_train, Y_test = train_test_split(train_data[0:,1:], train_data[0:, 0], test_size=0.2, random_state=0 )\n",
    "\n",
    "# 1) test_df 의 데이터로 predict\n",
    "train_df_x = train_data[0:,1:]\n",
    "train_df_y = train_data[0:,0]\n",
    "test_df_x = test_data[0:, 1:]\n",
    "test_df_y = test_data[0:,0]"
   ]
  },
  {
   "cell_type": "markdown",
   "metadata": {},
   "source": [
    "## Random Forest"
   ]
  },
  {
   "cell_type": "code",
   "execution_count": 11,
   "metadata": {},
   "outputs": [
    {
     "name": "stdout",
     "output_type": "stream",
     "text": [
      "RandomForest with n_estimator =500\n",
      "0.8873887388738874\n"
     ]
    }
   ],
   "source": [
    "# #randomforest classifier\n",
    "# model1 = RandomForestClassifier(n_estimators = 500)\n",
    "# rdc = model1.fit(train_df_x, train_df_y)\n",
    "# output1 = rdc.predict(test_df_x)\n",
    "\n",
    "# print(\"RandomForest with n_estimator =500\")\n",
    "# print(accuracy_score(test_df_y, output1))"
   ]
  },
  {
   "cell_type": "markdown",
   "metadata": {},
   "source": [
    "## Gradient boosting classifier"
   ]
  },
  {
   "cell_type": "code",
   "execution_count": 12,
   "metadata": {},
   "outputs": [],
   "source": [
    "# #GradientBoostingClassfier\n",
    "# model2 = GradientBoostingClassifier(n_estimators = 10,\n",
    "#                                     learning_rate = 0.3,\n",
    "#                                     max_depth=1)\n",
    "# gbc = model2.fit(train_df_x, train_df_y)\n",
    "# output2 = gbc.predict(test_df_x)"
   ]
  },
  {
   "cell_type": "code",
   "execution_count": 13,
   "metadata": {},
   "outputs": [
    {
     "name": "stdout",
     "output_type": "stream",
     "text": [
      "GradientBoostingClassifier with n_estimator =500\n",
      "0.757075707570757\n"
     ]
    }
   ],
   "source": [
    "# print(\"GradientBoostingClassifier with n_estimator =500\")\n",
    "# print(accuracy_score(test_df_y, output2))"
   ]
  },
  {
   "cell_type": "markdown",
   "metadata": {},
   "source": [
    "## MLPClassifier\n"
   ]
  },
  {
   "cell_type": "code",
   "execution_count": 14,
   "metadata": {},
   "outputs": [
    {
     "name": "stdout",
     "output_type": "stream",
     "text": [
      "SGD\n",
      "0.7483748374837483\n"
     ]
    }
   ],
   "source": [
    "# model3 = MLPClassifier(solver = 'sgd', hidden_layer_sizes=(100,),\n",
    "#                         random_state=1 )\n",
    "# mlp = model3.fit(train_df_x, train_df_y)\n",
    "# output3 = mlp.predict(test_df_x)\n",
    "# print(\"SGD\")\n",
    "# print(accuracy_score(test_df_y, output3))"
   ]
  },
  {
   "cell_type": "markdown",
   "metadata": {},
   "source": [
    "## SVC"
   ]
  },
  {
   "cell_type": "code",
   "execution_count": 15,
   "metadata": {},
   "outputs": [
    {
     "name": "stdout",
     "output_type": "stream",
     "text": [
      "SVC\n",
      "0.7483748374837483\n"
     ]
    }
   ],
   "source": [
    "# model4 = SVC()\n",
    "# svc = model4.fit(train_df_x, train_df_y)\n",
    "# output4 = mlp.predict(test_df_x)\n",
    "# print(\"SVC\")\n",
    "# print(accuracy_score(test_df_y, output4))"
   ]
  },
  {
   "cell_type": "markdown",
   "metadata": {},
   "source": [
    "## MAKE MODEL"
   ]
  },
  {
   "cell_type": "code",
   "execution_count": 11,
   "metadata": {},
   "outputs": [],
   "source": [
    "X= train_df_x\n",
    "Y= train_df_y\n"
   ]
  },
  {
   "cell_type": "code",
   "execution_count": 7,
   "metadata": {
    "scrolled": true
   },
   "outputs": [
    {
     "name": "stdout",
     "output_type": "stream",
     "text": [
      "Fitting 5 folds for each of 162 candidates, totalling 810 fits\n"
     ]
    },
    {
     "name": "stderr",
     "output_type": "stream",
     "text": [
      "[Parallel(n_jobs=4)]: Using backend LokyBackend with 4 concurrent workers.\n",
      "[Parallel(n_jobs=4)]: Done  42 tasks      | elapsed: 15.2min\n",
      "[Parallel(n_jobs=4)]: Done 192 tasks      | elapsed: 64.5min\n",
      "[Parallel(n_jobs=4)]: Done 442 tasks      | elapsed: 185.1min\n",
      "[Parallel(n_jobs=4)]: Done 792 tasks      | elapsed: 624.5min\n",
      "[Parallel(n_jobs=4)]: Done 810 out of 810 | elapsed: 655.3min finished\n"
     ]
    },
    {
     "name": "stdout",
     "output_type": "stream",
     "text": [
      "0.8855314526210518\n",
      "{'bootstrap': False, 'max_depth': None, 'max_features': 10, 'min_samples_leaf': 1, 'min_samples_split': 3, 'n_estimators': 900}\n"
     ]
    }
   ],
   "source": [
    "rf = RandomForestClassifier()\n",
    "\n",
    "## grid seacrch\n",
    "rf_param_grid = {\n",
    "    'max_depth': [None],\n",
    "    'max_features': [1,3,10],\n",
    "    'min_samples_split':[2,3,10],\n",
    "    'min_samples_leaf':[1,3,10],\n",
    "    'bootstrap':[False],\n",
    "    'n_estimators':[100,300,500,700,800,900]\n",
    "    \n",
    "}\n",
    "rf_grid = GridSearchCV(rf, param_grid= rf_param_grid, scoring= 'accuracy', n_jobs=4, verbose=1)\n",
    "\n",
    "rf_grid.fit(X,Y)\n",
    "rf_best = rf_grid.best_estimator_\n",
    "print(rf_grid.best_score_)\n",
    "# print(rf_best)\n",
    "print(rf_grid.best_params_)"
   ]
  },
  {
   "cell_type": "code",
   "execution_count": null,
   "metadata": {},
   "outputs": [],
   "source": []
  },
  {
   "cell_type": "code",
   "execution_count": 12,
   "metadata": {},
   "outputs": [
    {
     "name": "stdout",
     "output_type": "stream",
     "text": [
      "Fitting 5 folds for each of 32 candidates, totalling 160 fits\n"
     ]
    },
    {
     "name": "stderr",
     "output_type": "stream",
     "text": [
      "[Parallel(n_jobs=4)]: Using backend LokyBackend with 4 concurrent workers.\n",
      "[Parallel(n_jobs=4)]: Done  42 tasks      | elapsed: 53.5min\n"
     ]
    },
    {
     "ename": "KeyboardInterrupt",
     "evalue": "",
     "output_type": "error",
     "traceback": [
      "\u001b[0;31m---------------------------------------------------------------------------\u001b[0m",
      "\u001b[0;31mKeyboardInterrupt\u001b[0m                         Traceback (most recent call last)",
      "\u001b[0;32m<ipython-input-12-73258bf585eb>\u001b[0m in \u001b[0;36m<module>\u001b[0;34m\u001b[0m\n\u001b[1;32m     13\u001b[0m \u001b[0mgb_grid\u001b[0m \u001b[0;34m=\u001b[0m \u001b[0mGridSearchCV\u001b[0m\u001b[0;34m(\u001b[0m\u001b[0mgb\u001b[0m\u001b[0;34m,\u001b[0m \u001b[0mparam_grid\u001b[0m\u001b[0;34m=\u001b[0m \u001b[0mgb_param_grid\u001b[0m\u001b[0;34m,\u001b[0m \u001b[0mscoring\u001b[0m\u001b[0;34m=\u001b[0m \u001b[0;34m'accuracy'\u001b[0m\u001b[0;34m,\u001b[0m \u001b[0mn_jobs\u001b[0m\u001b[0;34m=\u001b[0m\u001b[0;36m4\u001b[0m\u001b[0;34m,\u001b[0m \u001b[0mverbose\u001b[0m\u001b[0;34m=\u001b[0m\u001b[0;36m1\u001b[0m\u001b[0;34m)\u001b[0m\u001b[0;34m\u001b[0m\u001b[0;34m\u001b[0m\u001b[0m\n\u001b[1;32m     14\u001b[0m \u001b[0;34m\u001b[0m\u001b[0m\n\u001b[0;32m---> 15\u001b[0;31m \u001b[0mgb_grid\u001b[0m\u001b[0;34m.\u001b[0m\u001b[0mfit\u001b[0m\u001b[0;34m(\u001b[0m\u001b[0mX\u001b[0m\u001b[0;34m,\u001b[0m\u001b[0mY\u001b[0m\u001b[0;34m)\u001b[0m\u001b[0;34m\u001b[0m\u001b[0;34m\u001b[0m\u001b[0m\n\u001b[0m\u001b[1;32m     16\u001b[0m \u001b[0mgb_best\u001b[0m \u001b[0;34m=\u001b[0m \u001b[0mgb_grid\u001b[0m\u001b[0;34m.\u001b[0m\u001b[0mbest_estimator_\u001b[0m\u001b[0;34m\u001b[0m\u001b[0;34m\u001b[0m\u001b[0m\n",
      "\u001b[0;32m~/opt/anaconda3/lib/python3.7/site-packages/sklearn/model_selection/_search.py\u001b[0m in \u001b[0;36mfit\u001b[0;34m(self, X, y, groups, **fit_params)\u001b[0m\n\u001b[1;32m    708\u001b[0m                 \u001b[0;32mreturn\u001b[0m \u001b[0mresults\u001b[0m\u001b[0;34m\u001b[0m\u001b[0;34m\u001b[0m\u001b[0m\n\u001b[1;32m    709\u001b[0m \u001b[0;34m\u001b[0m\u001b[0m\n\u001b[0;32m--> 710\u001b[0;31m             \u001b[0mself\u001b[0m\u001b[0;34m.\u001b[0m\u001b[0m_run_search\u001b[0m\u001b[0;34m(\u001b[0m\u001b[0mevaluate_candidates\u001b[0m\u001b[0;34m)\u001b[0m\u001b[0;34m\u001b[0m\u001b[0;34m\u001b[0m\u001b[0m\n\u001b[0m\u001b[1;32m    711\u001b[0m \u001b[0;34m\u001b[0m\u001b[0m\n\u001b[1;32m    712\u001b[0m         \u001b[0;31m# For multi-metric evaluation, store the best_index_, best_params_ and\u001b[0m\u001b[0;34m\u001b[0m\u001b[0;34m\u001b[0m\u001b[0;34m\u001b[0m\u001b[0m\n",
      "\u001b[0;32m~/opt/anaconda3/lib/python3.7/site-packages/sklearn/model_selection/_search.py\u001b[0m in \u001b[0;36m_run_search\u001b[0;34m(self, evaluate_candidates)\u001b[0m\n\u001b[1;32m   1149\u001b[0m     \u001b[0;32mdef\u001b[0m \u001b[0m_run_search\u001b[0m\u001b[0;34m(\u001b[0m\u001b[0mself\u001b[0m\u001b[0;34m,\u001b[0m \u001b[0mevaluate_candidates\u001b[0m\u001b[0;34m)\u001b[0m\u001b[0;34m:\u001b[0m\u001b[0;34m\u001b[0m\u001b[0;34m\u001b[0m\u001b[0m\n\u001b[1;32m   1150\u001b[0m         \u001b[0;34m\"\"\"Search all candidates in param_grid\"\"\"\u001b[0m\u001b[0;34m\u001b[0m\u001b[0;34m\u001b[0m\u001b[0m\n\u001b[0;32m-> 1151\u001b[0;31m         \u001b[0mevaluate_candidates\u001b[0m\u001b[0;34m(\u001b[0m\u001b[0mParameterGrid\u001b[0m\u001b[0;34m(\u001b[0m\u001b[0mself\u001b[0m\u001b[0;34m.\u001b[0m\u001b[0mparam_grid\u001b[0m\u001b[0;34m)\u001b[0m\u001b[0;34m)\u001b[0m\u001b[0;34m\u001b[0m\u001b[0;34m\u001b[0m\u001b[0m\n\u001b[0m\u001b[1;32m   1152\u001b[0m \u001b[0;34m\u001b[0m\u001b[0m\n\u001b[1;32m   1153\u001b[0m \u001b[0;34m\u001b[0m\u001b[0m\n",
      "\u001b[0;32m~/opt/anaconda3/lib/python3.7/site-packages/sklearn/model_selection/_search.py\u001b[0m in \u001b[0;36mevaluate_candidates\u001b[0;34m(candidate_params)\u001b[0m\n\u001b[1;32m    687\u001b[0m                                \u001b[0;32mfor\u001b[0m \u001b[0mparameters\u001b[0m\u001b[0;34m,\u001b[0m \u001b[0;34m(\u001b[0m\u001b[0mtrain\u001b[0m\u001b[0;34m,\u001b[0m \u001b[0mtest\u001b[0m\u001b[0;34m)\u001b[0m\u001b[0;34m\u001b[0m\u001b[0;34m\u001b[0m\u001b[0m\n\u001b[1;32m    688\u001b[0m                                in product(candidate_params,\n\u001b[0;32m--> 689\u001b[0;31m                                           cv.split(X, y, groups)))\n\u001b[0m\u001b[1;32m    690\u001b[0m \u001b[0;34m\u001b[0m\u001b[0m\n\u001b[1;32m    691\u001b[0m                 \u001b[0;32mif\u001b[0m \u001b[0mlen\u001b[0m\u001b[0;34m(\u001b[0m\u001b[0mout\u001b[0m\u001b[0;34m)\u001b[0m \u001b[0;34m<\u001b[0m \u001b[0;36m1\u001b[0m\u001b[0;34m:\u001b[0m\u001b[0;34m\u001b[0m\u001b[0;34m\u001b[0m\u001b[0m\n",
      "\u001b[0;32m~/opt/anaconda3/lib/python3.7/site-packages/joblib/parallel.py\u001b[0m in \u001b[0;36m__call__\u001b[0;34m(self, iterable)\u001b[0m\n\u001b[1;32m   1015\u001b[0m \u001b[0;34m\u001b[0m\u001b[0m\n\u001b[1;32m   1016\u001b[0m             \u001b[0;32mwith\u001b[0m \u001b[0mself\u001b[0m\u001b[0;34m.\u001b[0m\u001b[0m_backend\u001b[0m\u001b[0;34m.\u001b[0m\u001b[0mretrieval_context\u001b[0m\u001b[0;34m(\u001b[0m\u001b[0;34m)\u001b[0m\u001b[0;34m:\u001b[0m\u001b[0;34m\u001b[0m\u001b[0;34m\u001b[0m\u001b[0m\n\u001b[0;32m-> 1017\u001b[0;31m                 \u001b[0mself\u001b[0m\u001b[0;34m.\u001b[0m\u001b[0mretrieve\u001b[0m\u001b[0;34m(\u001b[0m\u001b[0;34m)\u001b[0m\u001b[0;34m\u001b[0m\u001b[0;34m\u001b[0m\u001b[0m\n\u001b[0m\u001b[1;32m   1018\u001b[0m             \u001b[0;31m# Make sure that we get a last message telling us we are done\u001b[0m\u001b[0;34m\u001b[0m\u001b[0;34m\u001b[0m\u001b[0;34m\u001b[0m\u001b[0m\n\u001b[1;32m   1019\u001b[0m             \u001b[0melapsed_time\u001b[0m \u001b[0;34m=\u001b[0m \u001b[0mtime\u001b[0m\u001b[0;34m.\u001b[0m\u001b[0mtime\u001b[0m\u001b[0;34m(\u001b[0m\u001b[0;34m)\u001b[0m \u001b[0;34m-\u001b[0m \u001b[0mself\u001b[0m\u001b[0;34m.\u001b[0m\u001b[0m_start_time\u001b[0m\u001b[0;34m\u001b[0m\u001b[0;34m\u001b[0m\u001b[0m\n",
      "\u001b[0;32m~/opt/anaconda3/lib/python3.7/site-packages/joblib/parallel.py\u001b[0m in \u001b[0;36mretrieve\u001b[0;34m(self)\u001b[0m\n\u001b[1;32m    907\u001b[0m             \u001b[0;32mtry\u001b[0m\u001b[0;34m:\u001b[0m\u001b[0;34m\u001b[0m\u001b[0;34m\u001b[0m\u001b[0m\n\u001b[1;32m    908\u001b[0m                 \u001b[0;32mif\u001b[0m \u001b[0mgetattr\u001b[0m\u001b[0;34m(\u001b[0m\u001b[0mself\u001b[0m\u001b[0;34m.\u001b[0m\u001b[0m_backend\u001b[0m\u001b[0;34m,\u001b[0m \u001b[0;34m'supports_timeout'\u001b[0m\u001b[0;34m,\u001b[0m \u001b[0;32mFalse\u001b[0m\u001b[0;34m)\u001b[0m\u001b[0;34m:\u001b[0m\u001b[0;34m\u001b[0m\u001b[0;34m\u001b[0m\u001b[0m\n\u001b[0;32m--> 909\u001b[0;31m                     \u001b[0mself\u001b[0m\u001b[0;34m.\u001b[0m\u001b[0m_output\u001b[0m\u001b[0;34m.\u001b[0m\u001b[0mextend\u001b[0m\u001b[0;34m(\u001b[0m\u001b[0mjob\u001b[0m\u001b[0;34m.\u001b[0m\u001b[0mget\u001b[0m\u001b[0;34m(\u001b[0m\u001b[0mtimeout\u001b[0m\u001b[0;34m=\u001b[0m\u001b[0mself\u001b[0m\u001b[0;34m.\u001b[0m\u001b[0mtimeout\u001b[0m\u001b[0;34m)\u001b[0m\u001b[0;34m)\u001b[0m\u001b[0;34m\u001b[0m\u001b[0;34m\u001b[0m\u001b[0m\n\u001b[0m\u001b[1;32m    910\u001b[0m                 \u001b[0;32melse\u001b[0m\u001b[0;34m:\u001b[0m\u001b[0;34m\u001b[0m\u001b[0;34m\u001b[0m\u001b[0m\n\u001b[1;32m    911\u001b[0m                     \u001b[0mself\u001b[0m\u001b[0;34m.\u001b[0m\u001b[0m_output\u001b[0m\u001b[0;34m.\u001b[0m\u001b[0mextend\u001b[0m\u001b[0;34m(\u001b[0m\u001b[0mjob\u001b[0m\u001b[0;34m.\u001b[0m\u001b[0mget\u001b[0m\u001b[0;34m(\u001b[0m\u001b[0;34m)\u001b[0m\u001b[0;34m)\u001b[0m\u001b[0;34m\u001b[0m\u001b[0;34m\u001b[0m\u001b[0m\n",
      "\u001b[0;32m~/opt/anaconda3/lib/python3.7/site-packages/joblib/_parallel_backends.py\u001b[0m in \u001b[0;36mwrap_future_result\u001b[0;34m(future, timeout)\u001b[0m\n\u001b[1;32m    560\u001b[0m         AsyncResults.get from multiprocessing.\"\"\"\n\u001b[1;32m    561\u001b[0m         \u001b[0;32mtry\u001b[0m\u001b[0;34m:\u001b[0m\u001b[0;34m\u001b[0m\u001b[0;34m\u001b[0m\u001b[0m\n\u001b[0;32m--> 562\u001b[0;31m             \u001b[0;32mreturn\u001b[0m \u001b[0mfuture\u001b[0m\u001b[0;34m.\u001b[0m\u001b[0mresult\u001b[0m\u001b[0;34m(\u001b[0m\u001b[0mtimeout\u001b[0m\u001b[0;34m=\u001b[0m\u001b[0mtimeout\u001b[0m\u001b[0;34m)\u001b[0m\u001b[0;34m\u001b[0m\u001b[0;34m\u001b[0m\u001b[0m\n\u001b[0m\u001b[1;32m    563\u001b[0m         \u001b[0;32mexcept\u001b[0m \u001b[0mLokyTimeoutError\u001b[0m\u001b[0;34m:\u001b[0m\u001b[0;34m\u001b[0m\u001b[0;34m\u001b[0m\u001b[0m\n\u001b[1;32m    564\u001b[0m             \u001b[0;32mraise\u001b[0m \u001b[0mTimeoutError\u001b[0m\u001b[0;34m(\u001b[0m\u001b[0;34m)\u001b[0m\u001b[0;34m\u001b[0m\u001b[0;34m\u001b[0m\u001b[0m\n",
      "\u001b[0;32m~/opt/anaconda3/lib/python3.7/concurrent/futures/_base.py\u001b[0m in \u001b[0;36mresult\u001b[0;34m(self, timeout)\u001b[0m\n\u001b[1;32m    428\u001b[0m                 \u001b[0;32mreturn\u001b[0m \u001b[0mself\u001b[0m\u001b[0;34m.\u001b[0m\u001b[0m__get_result\u001b[0m\u001b[0;34m(\u001b[0m\u001b[0;34m)\u001b[0m\u001b[0;34m\u001b[0m\u001b[0;34m\u001b[0m\u001b[0m\n\u001b[1;32m    429\u001b[0m \u001b[0;34m\u001b[0m\u001b[0m\n\u001b[0;32m--> 430\u001b[0;31m             \u001b[0mself\u001b[0m\u001b[0;34m.\u001b[0m\u001b[0m_condition\u001b[0m\u001b[0;34m.\u001b[0m\u001b[0mwait\u001b[0m\u001b[0;34m(\u001b[0m\u001b[0mtimeout\u001b[0m\u001b[0;34m)\u001b[0m\u001b[0;34m\u001b[0m\u001b[0;34m\u001b[0m\u001b[0m\n\u001b[0m\u001b[1;32m    431\u001b[0m \u001b[0;34m\u001b[0m\u001b[0m\n\u001b[1;32m    432\u001b[0m             \u001b[0;32mif\u001b[0m \u001b[0mself\u001b[0m\u001b[0;34m.\u001b[0m\u001b[0m_state\u001b[0m \u001b[0;32min\u001b[0m \u001b[0;34m[\u001b[0m\u001b[0mCANCELLED\u001b[0m\u001b[0;34m,\u001b[0m \u001b[0mCANCELLED_AND_NOTIFIED\u001b[0m\u001b[0;34m]\u001b[0m\u001b[0;34m:\u001b[0m\u001b[0;34m\u001b[0m\u001b[0;34m\u001b[0m\u001b[0m\n",
      "\u001b[0;32m~/opt/anaconda3/lib/python3.7/threading.py\u001b[0m in \u001b[0;36mwait\u001b[0;34m(self, timeout)\u001b[0m\n\u001b[1;32m    294\u001b[0m         \u001b[0;32mtry\u001b[0m\u001b[0;34m:\u001b[0m    \u001b[0;31m# restore state no matter what (e.g., KeyboardInterrupt)\u001b[0m\u001b[0;34m\u001b[0m\u001b[0;34m\u001b[0m\u001b[0m\n\u001b[1;32m    295\u001b[0m             \u001b[0;32mif\u001b[0m \u001b[0mtimeout\u001b[0m \u001b[0;32mis\u001b[0m \u001b[0;32mNone\u001b[0m\u001b[0;34m:\u001b[0m\u001b[0;34m\u001b[0m\u001b[0;34m\u001b[0m\u001b[0m\n\u001b[0;32m--> 296\u001b[0;31m                 \u001b[0mwaiter\u001b[0m\u001b[0;34m.\u001b[0m\u001b[0macquire\u001b[0m\u001b[0;34m(\u001b[0m\u001b[0;34m)\u001b[0m\u001b[0;34m\u001b[0m\u001b[0;34m\u001b[0m\u001b[0m\n\u001b[0m\u001b[1;32m    297\u001b[0m                 \u001b[0mgotit\u001b[0m \u001b[0;34m=\u001b[0m \u001b[0;32mTrue\u001b[0m\u001b[0;34m\u001b[0m\u001b[0;34m\u001b[0m\u001b[0m\n\u001b[1;32m    298\u001b[0m             \u001b[0;32melse\u001b[0m\u001b[0;34m:\u001b[0m\u001b[0;34m\u001b[0m\u001b[0;34m\u001b[0m\u001b[0m\n",
      "\u001b[0;31mKeyboardInterrupt\u001b[0m: "
     ]
    }
   ],
   "source": [
    "gb = GradientBoostingClassifier()\n",
    "\n",
    "## grid seacrch\n",
    "gb_param_grid = {\n",
    "    'loss':['deviance'],\n",
    "    'n_estimators': [100,300],\n",
    "    'learning_rate':[0.1,0.01],\n",
    "    'max_depth': [4,8],\n",
    "    'max_features': [3,10],\n",
    "    'min_samples_leaf':[150,200]\n",
    "    \n",
    "}\n",
    "gb_grid = GridSearchCV(gb, param_grid= gb_param_grid, scoring= 'accuracy', n_jobs=4, verbose=1)\n",
    "\n",
    "gb_grid.fit(X,Y)\n",
    "gb_best = gb_grid.best_estimator_"
   ]
  },
  {
   "cell_type": "code",
   "execution_count": null,
   "metadata": {},
   "outputs": [],
   "source": [
    "svc = SVC()\n",
    "svc_param_grid = {'kernel': ['rbf'], \n",
    "                 'gamma': [ 0.01, 0.1, 0.5],\n",
    "                 'C': [ 0.1, 1, 10, 50, 100]}\n",
    "\n",
    "svc_grid = GridSearchCV(svc, param_grid= svc_param_grid, scoring='accuracy', n_jobs=4, verbose=1)\n",
    "svc_grid.fit(X,Y)\n",
    "\n",
    "svc_best = svc_grid.best_estimator_\n",
    "print(svc_grid.best_score_)\n",
    "print(svc_best)\n",
    "print(svc_grid.best_params_)"
   ]
  },
  {
   "cell_type": "code",
   "execution_count": null,
   "metadata": {},
   "outputs": [],
   "source": [
    "mlp = MLPClassifier()\n",
    "mlp_param_grid = {\n",
    "    'hidden_layer_sizes': [(50,50,50), (50,100,50), (100,)],\n",
    "    'activation': ['tanh', 'relu'],\n",
    "    'solver': ['sgd', 'adam'],\n",
    "    'alpha': [0.0001, 0.05],\n",
    "    'learning_rate': ['constant','adaptive'],\n",
    "}\n",
    "\n",
    "\n",
    "mlp_grid = GridSearchCV(mlp, param_grid= mlp_param_grid, n_jobs=4, cv=3)\n",
    "mlp_grid.fit(X,Y)\n",
    "\n",
    "mlp_best = mlp_grid.best_estimator_\n",
    "# Best paramete set\n",
    "print('Best parameters found:\\n', mlp_grid.best_params_)\n",
    "\n",
    "# All results\n",
    "# means = mlp_grid.cv_results_['mean_test_score']\n",
    "# stds = mlp_grid.cv_results_['std_test_score']\n",
    "# for mean, std, params in zip(means, stds, mlp_grid.cv_results_['params']):\n",
    "#     print(\"%0.3f (+/-%0.03f) for %r\" % (mean, std * 2, params))"
   ]
  },
  {
   "cell_type": "code",
   "execution_count": null,
   "metadata": {},
   "outputs": [],
   "source": [
    "vote = VotingClassifier(estimators= [('rf',rf_best),\n",
    "                                    ('gb', gb_best),\n",
    "                                    ('mlp', mlp_best), \n",
    "                                    ('svc', svc_best)], voting= 'soft', n_jobs=4)\n",
    "vote_result = vote.fit(X,Y)\n",
    "vote_result"
   ]
  },
  {
   "cell_type": "code",
   "execution_count": null,
   "metadata": {},
   "outputs": [],
   "source": [
    "vote_result"
   ]
  },
  {
   "cell_type": "code",
   "execution_count": null,
   "metadata": {},
   "outputs": [],
   "source": []
  }
 ],
 "metadata": {
  "kernelspec": {
   "display_name": "Python 3",
   "language": "python",
   "name": "python3"
  },
  "language_info": {
   "codemirror_mode": {
    "name": "ipython",
    "version": 3
   },
   "file_extension": ".py",
   "mimetype": "text/x-python",
   "name": "python",
   "nbconvert_exporter": "python",
   "pygments_lexer": "ipython3",
   "version": "3.7.4"
  }
 },
 "nbformat": 4,
 "nbformat_minor": 4
}

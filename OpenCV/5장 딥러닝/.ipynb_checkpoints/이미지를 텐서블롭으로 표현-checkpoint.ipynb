{
 "cells": [
  {
   "cell_type": "code",
   "execution_count": 1,
   "metadata": {},
   "outputs": [],
   "source": [
    "import cv2\n",
    "import numpy as np"
   ]
  },
  {
   "cell_type": "code",
   "execution_count": 12,
   "metadata": {},
   "outputs": [
    {
     "name": "stdout",
     "output_type": "stream",
     "text": [
      "(1667, 1667, 3)\n"
     ]
    }
   ],
   "source": [
    "image_bgr = cv2.imread('pengsu.png',cv2.IMREAD_COLOR)\n",
    "print(image_bgr.shape)"
   ]
  },
  {
   "cell_type": "code",
   "execution_count": 13,
   "metadata": {},
   "outputs": [],
   "source": [
    "image_bgr_float = image_bgr.astype(np.float32)"
   ]
  },
  {
   "cell_type": "code",
   "execution_count": 14,
   "metadata": {},
   "outputs": [],
   "source": [
    "image_rgb = image_bgr_float[...,::-1]\n",
    "tensor_chw = np.transpose(image_rgb,(2,0,1))\n",
    "tensor_nchw= tensor_chw[np.newaxis, ...]"
   ]
  },
  {
   "cell_type": "code",
   "execution_count": 16,
   "metadata": {},
   "outputs": [
    {
     "name": "stdout",
     "output_type": "stream",
     "text": [
      "(1, 3, 1667, 1667)\n"
     ]
    }
   ],
   "source": [
    "print(tensor_nchw.shape)"
   ]
  },
  {
   "cell_type": "markdown",
   "metadata": {},
   "source": [
    "OpenCV 파이썬 패키지의 행렬과 이미지는 Numpy 배열로 나타낸다. \n",
    "이전의 cv2.imread는 3차원 배열로 각각 높이, 너비, 채널에 해당한다. \n",
    "텐서는 다차원 행렬이다. 각각 높이, 너비, 채널 그리고 하나를 추가해 4차원의 부동소수점 텐서를 받는다.\n",
    "N= 배치에 포함된 이미지 수 C= 채널 수 H= 높이 W=너비\n",
    "\n",
    "따라서, 이미지를 텐서로 변환하려면 다음과 같은 단계를 수행함\n",
    "1. 이미지를 부동소수점으로 변환\n",
    "2. 필요한 경우 채널순서를 BGR -> RGB로 변환 (모델이 BGR을 처리하는데 이미사용했다면 RGB이미지에서 작동안될수있으므로)\n",
    "3. HWC 이미지를 CHW 텐서로 변환\n",
    "4. CHW 텐서에 차원을 추가해 NCHW로 만듬"
   ]
  }
 ],
 "metadata": {
  "kernelspec": {
   "display_name": "Python 3",
   "language": "python",
   "name": "python3"
  },
  "language_info": {
   "codemirror_mode": {
    "name": "ipython",
    "version": 3
   },
   "file_extension": ".py",
   "mimetype": "text/x-python",
   "name": "python",
   "nbconvert_exporter": "python",
   "pygments_lexer": "ipython3",
   "version": "3.7.4"
  }
 },
 "nbformat": 4,
 "nbformat_minor": 4
}

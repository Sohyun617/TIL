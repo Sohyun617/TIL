{
 "cells": [
  {
   "cell_type": "code",
   "execution_count": 5,
   "metadata": {},
   "outputs": [],
   "source": [
    "import tensorflow as tf\n",
    "from tensorflow.keras import datasets, utils\n",
    "from tensorflow.keras import models, layers, activations, initializers, losses, optimizers, metrics\n",
    "\n",
    "import os\n",
    "tf.logging.set_verbosity(tf.logging.ERROR)\n",
    "os.environ['TF_CPP_MIN_LOG_LEVEL'] = '2' # https://stackoverflow.com/questions/35911252/disable-tensorflow-debugging-information"
   ]
  },
  {
   "cell_type": "markdown",
   "metadata": {},
   "source": [
    "<br> \n",
    "\n",
    "#### 1. Prepare train & test data (MNIST)"
   ]
  },
  {
   "cell_type": "markdown",
   "metadata": {},
   "source": [
    "#### Train & Test split"
   ]
  },
  {
   "cell_type": "code",
   "execution_count": 6,
   "metadata": {},
   "outputs": [
    {
     "name": "stdout",
     "output_type": "stream",
     "text": [
      "(60000, 28, 28)\n",
      "(10000, 28, 28)\n",
      "uint8\n",
      "255\n"
     ]
    }
   ],
   "source": [
    "(train_data, train_label), (test_data, test_label) = datasets.mnist.load_data()\n",
    "\n",
    "print(train_data.shape) # # of training data == 60000, each data = 28px * 28px\n",
    "print(test_data.shape) # # of test data == 10000\n",
    "print(train_data.dtype) # int\n",
    "print(train_data.max()) # 0~255"
   ]
  },
  {
   "cell_type": "markdown",
   "metadata": {},
   "source": [
    "#### Normalization"
   ]
  },
  {
   "cell_type": "code",
   "execution_count": 7,
   "metadata": {},
   "outputs": [],
   "source": [
    "train_data = train_data.reshape(60000, 784).astype('float32') / 255.0 # 0~255 -> 0~1\n",
    "test_data = test_data.reshape(10000, 784).astype('float32') / 255.0 # 0~255 -> 0~1"
   ]
  },
  {
   "cell_type": "markdown",
   "metadata": {},
   "source": [
    "#### One-hot encoding"
   ]
  },
  {
   "cell_type": "code",
   "execution_count": 8,
   "metadata": {},
   "outputs": [],
   "source": [
    "train_label = utils.to_categorical(train_label) # 0~9 -> one-hot vector\n",
    "test_label = utils.to_categorical(test_label) # 0~9 -> one-hot vector"
   ]
  },
  {
   "cell_type": "markdown",
   "metadata": {},
   "source": [
    "<br> \n",
    "\n",
    "#### 2. Build the model & Set the criterion"
   ]
  },
  {
   "cell_type": "code",
   "execution_count": 11,
   "metadata": {},
   "outputs": [],
   "source": [
    "model = models.Sequential() \n",
    "\n",
    "model.add(layers.Dense(input_dim=28*28, units=256, activation=None, kernel_initializer=initializers.he_uniform())) \n",
    "model.add(layers.BatchNormalization())\n",
    "model.add(layers.Activation('relu')) # layers.ELU or layers.LeakyReLU\n",
    "model.add(layers.Dropout(rate=0.2))\n",
    "\n",
    "model.add(layers.Dense(units=256,\n",
    "                       activation=None,\n",
    "                       kernel_initializer=initializers.he_uniform())) \n",
    "model.add(layers.BatchNormalization())\n",
    "model.add(layers.Activation('relu')) # layers.ELU or layers.LeakyReLU\n",
    "model.add(layers.Dropout(rate=0.2))\n",
    "\n",
    "model.add(layers.Dense(units=10, activation='softmax')) # 0~9 "
   ]
  },
  {
   "cell_type": "code",
   "execution_count": 15,
   "metadata": {},
   "outputs": [
    {
     "data": {
      "text/plain": [
       "<tensorflow.python.keras.optimizers.Adam at 0x257cf346358>"
      ]
     },
     "execution_count": 15,
     "metadata": {},
     "output_type": "execute_result"
    }
   ],
   "source": [
    "optimizers.Adam()"
   ]
  },
  {
   "cell_type": "code",
   "execution_count": 16,
   "metadata": {},
   "outputs": [],
   "source": [
    "model.compile(optimizer=optimizers.Adam(0.01), \n",
    "              loss=losses.categorical_crossentropy, \n",
    "              metrics=[metrics.categorical_accuracy]) "
   ]
  },
  {
   "cell_type": "markdown",
   "metadata": {},
   "source": [
    "<br> \n",
    "\n",
    "#### 3. Train the model"
   ]
  },
  {
   "cell_type": "code",
   "execution_count": 17,
   "metadata": {},
   "outputs": [
    {
     "name": "stdout",
     "output_type": "stream",
     "text": [
      "Train on 48000 samples, validate on 12000 samples\n",
      "Epoch 1/15\n",
      "48000/48000 [==============================] - 3s 67us/sample - loss: 0.2441 - categorical_accuracy: 0.9250 - val_loss: 0.1275 - val_categorical_accuracy: 0.9635\n",
      "Epoch 2/15\n",
      "48000/48000 [==============================] - 2s 50us/sample - loss: 0.1309 - categorical_accuracy: 0.9596 - val_loss: 0.1250 - val_categorical_accuracy: 0.9621\n",
      "Epoch 3/15\n",
      "48000/48000 [==============================] - 2s 50us/sample - loss: 0.1038 - categorical_accuracy: 0.9679 - val_loss: 0.1032 - val_categorical_accuracy: 0.9710\n",
      "Epoch 4/15\n",
      "48000/48000 [==============================] - 2s 51us/sample - loss: 0.0841 - categorical_accuracy: 0.9728 - val_loss: 0.0799 - val_categorical_accuracy: 0.9784\n",
      "Epoch 5/15\n",
      "48000/48000 [==============================] - 2s 51us/sample - loss: 0.0792 - categorical_accuracy: 0.9755 - val_loss: 0.0818 - val_categorical_accuracy: 0.9759\n",
      "Epoch 6/15\n",
      "48000/48000 [==============================] - 2s 51us/sample - loss: 0.0697 - categorical_accuracy: 0.9779 - val_loss: 0.0866 - val_categorical_accuracy: 0.9751\n",
      "Epoch 7/15\n",
      "48000/48000 [==============================] - 2s 51us/sample - loss: 0.0649 - categorical_accuracy: 0.9781 - val_loss: 0.0905 - val_categorical_accuracy: 0.9751\n",
      "Epoch 8/15\n",
      "48000/48000 [==============================] - 2s 51us/sample - loss: 0.0608 - categorical_accuracy: 0.9804 - val_loss: 0.0889 - val_categorical_accuracy: 0.9768\n",
      "Epoch 9/15\n",
      "48000/48000 [==============================] - 2s 51us/sample - loss: 0.0537 - categorical_accuracy: 0.9820 - val_loss: 0.1016 - val_categorical_accuracy: 0.9757\n",
      "Epoch 10/15\n",
      "48000/48000 [==============================] - 2s 52us/sample - loss: 0.0545 - categorical_accuracy: 0.9827 - val_loss: 0.0867 - val_categorical_accuracy: 0.9803\n",
      "Epoch 11/15\n",
      "48000/48000 [==============================] - 2s 51us/sample - loss: 0.0511 - categorical_accuracy: 0.9836 - val_loss: 0.0834 - val_categorical_accuracy: 0.9793\n",
      "Epoch 12/15\n",
      "48000/48000 [==============================] - 2s 50us/sample - loss: 0.0496 - categorical_accuracy: 0.9842 - val_loss: 0.0856 - val_categorical_accuracy: 0.9779\n",
      "Epoch 13/15\n",
      "48000/48000 [==============================] - 2s 51us/sample - loss: 0.0463 - categorical_accuracy: 0.9841 - val_loss: 0.0793 - val_categorical_accuracy: 0.9805\n",
      "Epoch 14/15\n",
      "48000/48000 [==============================] - 2s 51us/sample - loss: 0.0415 - categorical_accuracy: 0.9865 - val_loss: 0.0848 - val_categorical_accuracy: 0.9803\n",
      "Epoch 15/15\n",
      "48000/48000 [==============================] - 2s 51us/sample - loss: 0.0482 - categorical_accuracy: 0.9851 - val_loss: 0.0777 - val_categorical_accuracy: 0.9812\n"
     ]
    }
   ],
   "source": [
    "history = model.fit(train_data, train_label, batch_size=100, epochs=15, validation_split=0.2)  "
   ]
  },
  {
   "cell_type": "markdown",
   "metadata": {},
   "source": [
    "<br> \n",
    "\n",
    "#### 4. Test the model"
   ]
  },
  {
   "cell_type": "code",
   "execution_count": 18,
   "metadata": {
    "scrolled": true
   },
   "outputs": [
    {
     "name": "stdout",
     "output_type": "stream",
     "text": [
      "10000/10000 [==============================] - 0s 15us/sample - loss: 0.0690 - categorical_accuracy: 0.9818\n",
      "loss (cross-entropy) : 0.06899851106189998\n",
      "test accuracy : 0.9818\n"
     ]
    }
   ],
   "source": [
    "result = model.evaluate(test_data, test_label, batch_size=100)\n",
    "\n",
    "print('loss (cross-entropy) :', result[0])\n",
    "print('test accuracy :', result[1])"
   ]
  },
  {
   "cell_type": "markdown",
   "metadata": {},
   "source": [
    "<br> \n",
    "\n",
    "#### 5. Visualize the result"
   ]
  },
  {
   "cell_type": "code",
   "execution_count": 19,
   "metadata": {},
   "outputs": [
    {
     "data": {
      "text/plain": [
       "dict_keys(['loss', 'categorical_accuracy', 'val_loss', 'val_categorical_accuracy'])"
      ]
     },
     "execution_count": 19,
     "metadata": {},
     "output_type": "execute_result"
    }
   ],
   "source": [
    "history.history.keys()"
   ]
  },
  {
   "cell_type": "code",
   "execution_count": 21,
   "metadata": {},
   "outputs": [
    {
     "data": {
      "image/png": "[encoded data removed]",
      "text/plain": [
       "<Figure size 432x288 with 1 Axes>"
      ]
     },
     "metadata": {
      "needs_background": "light"
     },
     "output_type": "display_data"
    }
   ],
   "source": [
    "val_acc = history.history['val_categorical_accuracy']\n",
    "acc = history.history['categorical_accuracy']\n",
    "\n",
    "import numpy as np\n",
    "import matplotlib.pyplot as plt\n",
    "\n",
    "x_len = np.arange(len(acc))\n",
    "plt.plot(x_len, acc, marker='.', c='blue', label=\"Train-set Acc.\")\n",
    "plt.plot(x_len, val_acc, marker='.', c='red', label=\"Validation-set Acc.\")\n",
    "\n",
    "plt.legend(loc='upper right')\n",
    "plt.grid()\n",
    "plt.xlabel('epoch')\n",
    "plt.ylabel('Accuracy')\n",
    "plt.show()"
   ]
  },
  {
   "cell_type": "code",
   "execution_count": null,
   "metadata": {},
   "outputs": [],
   "source": []
  }
 ],
 "metadata": {
  "kernel_info": {
   "name": "python3"
  },
  "kernelspec": {
   "display_name": "Python 3",
   "language": "python",
   "name": "python3"
  },
  "language_info": {
   "codemirror_mode": {
    "name": "ipython",
    "version": 3
   },
   "file_extension": ".py",
   "mimetype": "text/x-python",
   "name": "python",
   "nbconvert_exporter": "python",
   "pygments_lexer": "ipython3",
   "version": "3.7.3"
  },
  "nteract": {
   "version": "0.14.3"
  }
 },
 "nbformat": 4,
 "nbformat_minor": 2
}
